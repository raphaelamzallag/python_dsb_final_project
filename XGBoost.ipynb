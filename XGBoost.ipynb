{
 "cells": [
  {
   "cell_type": "markdown",
   "id": "58101f76-8ec1-43d4-807b-16ca76e2fe69",
   "metadata": {},
   "source": [
    "# Imports "
   ]
  },
  {
   "cell_type": "code",
   "execution_count": 101,
   "id": "e2d57ada-51bb-4d5c-b285-24cf1083cf01",
   "metadata": {
    "jp-MarkdownHeadingCollapsed": true
   },
   "outputs": [],
   "source": [
    " import warnings\n",
    "warnings.filterwarnings(\"ignore\")\n",
    "\n",
    "from pathlib import Path\n",
    "import numpy as np\n",
    "import pandas as pd\n",
    "import matplotlib.pyplot as plt\n",
    "import utils\n",
    "from pathlib import Path\n",
    "import xgboost as xgb\n",
    "from sklearn.model_selection import train_test_split\n",
    "from sklearn.metrics import mean_squared_error\n",
    "from sklearn.compose import ColumnTransformer\n",
    "from sklearn.preprocessing import FunctionTransformer, OneHotEncoder, StandardScaler\n",
    "from sklearn.pipeline import make_pipeline, Pipeline\n",
    "from lockdowndates.core import LockdownDates\n",
    "\n",
    "\n",
    "from catboost import CatBoostRegressor\n",
    "from jours_feries_france import JoursFeries\n",
    "from vacances_scolaires_france import SchoolHolidayDates\n",
    "from datetime import timedelta, date"
   ]
  },
  {
   "cell_type": "markdown",
   "id": "73c8665b-8727-43b7-a95d-f934037dc1ad",
   "metadata": {},
   "source": [
    "## Importing Data"
   ]
  },
  {
   "cell_type": "code",
   "execution_count": 60,
   "id": "0607e61e-f822-400d-80cc-18aed8c5852a",
   "metadata": {},
   "outputs": [],
   "source": [
    "X, y = utils.get_train_data()\n",
    "X_final_test = pd.read_parquet(Path(\"data\") / \"final_test.parquet\")"
   ]
  },
  {
   "cell_type": "code",
   "execution_count": 61,
   "id": "2a77b93e-d2f7-4b3a-b625-718ab844fe13",
   "metadata": {},
   "outputs": [
    {
     "data": {
      "text/plain": [
       "(496827, 10)"
      ]
     },
     "execution_count": 61,
     "metadata": {},
     "output_type": "execute_result"
    }
   ],
   "source": [
    "X.shape"
   ]
  },
  {
   "cell_type": "markdown",
   "id": "c9908aca-4117-43ea-9b77-f625600740a7",
   "metadata": {},
   "source": [
    "## Importing Starter Kit Functions"
   ]
  },
  {
   "cell_type": "code",
   "execution_count": 62,
   "id": "18c4f752-3fa5-4b53-97c5-7fd444a74283",
   "metadata": {},
   "outputs": [],
   "source": [
    "def train_test_split_temporal(X, y, delta_threshold=\"30 days\"):\n",
    "    cutoff_date = X[\"date\"].max() - pd.Timedelta(delta_threshold)\n",
    "    mask = X[\"date\"] <= cutoff_date\n",
    "    X_train, X_test = X.loc[mask], X.loc[~mask]\n",
    "    y_train, y_test = y[mask], y[~mask]\n",
    "\n",
    "    return X_train, y_train, X_test, y_test\n",
    "\n",
    "def _encode_dates(X):\n",
    "    X = X.copy()  # modify a copy of X\n",
    "    # Encode the date information from the DateOfDeparture columns\n",
    "    X[\"year\"] = X[\"date\"].dt.year\n",
    "    X[\"month\"] = X[\"date\"].dt.month\n",
    "    X[\"day\"] = X[\"date\"].dt.day\n",
    "    X[\"weekday\"] = X[\"date\"].dt.weekday\n",
    "    X[\"hour\"] = X[\"date\"].dt.hour\n",
    "\n",
    "    # Finally we can drop the original columns from the dataframe\n",
    "    return X.drop(columns=[\"date\"])\n",
    "\n",
    "def filter_columns(X):\n",
    "    columns_to_keep = ['date', 'latitude', 'longitude']\n",
    "    return X[columns_to_keep]"
   ]
  },
  {
   "cell_type": "markdown",
   "id": "4c06351f-79e1-4f25-a76e-45a26a5d9435",
   "metadata": {},
   "source": [
    "# Preprocessing"
   ]
  },
  {
   "cell_type": "markdown",
   "id": "bff2f4ba-9de9-4ba3-9379-1ce2f7a9d33d",
   "metadata": {},
   "source": [
    "## Create X + Weather + Vacances"
   ]
  },
  {
   "cell_type": "code",
   "execution_count": 63,
   "id": "9cf8301f-51b4-426d-b6bb-528c74cb07cd",
   "metadata": {},
   "outputs": [],
   "source": [
    "def create_x_weather(X):\n",
    "    weather_wi = pd.read_csv('data/weather_data_paris_daily.csv')\n",
    "    \n",
    "    columns_to_keep = ['datetime', 'temp', 'precip', 'windspeed', 'visibility']\n",
    "    weather = weather_wi[columns_to_keep].copy().rename(columns={'datetime':'date'})\n",
    "    \n",
    "    mapping = {'snow': 0, 'rain': 1, 'cloudy': 2, 'partly-cloudy-day': 3, 'clear-day': 4}\n",
    "    weather.loc[:, 'icon_encoded'] = weather_wi['icon'].copy().map(mapping)\n",
    "    \n",
    "    \n",
    "    weather['date'] = pd.to_datetime(weather['date'].values.astype('<M8[us]'), format='%Y-%m-%d')\n",
    "    weather['date_merge'] = weather['date']\n",
    "    X_weather = X.copy() \n",
    "    X_weather['date_merge'] = pd.to_datetime(X_weather['date'].dt.strftime('%Y-%m-%d'), format='%Y-%m-%d')\n",
    "    X_weather = X_weather.merge(weather.drop(columns=['date']), how='left', on='date_merge').drop(columns=['date_merge'])\n",
    "    \n",
    "    return X_weather"
   ]
  },
  {
   "cell_type": "code",
   "execution_count": 64,
   "id": "a5cc20e9-a445-422e-b4f4-c5fea9abeee6",
   "metadata": {},
   "outputs": [],
   "source": [
    "def is_jour_ferie(X):\n",
    "    d = SchoolHolidayDates()\n",
    "    ho_20 = d.holidays_for_year_and_zone(2020, 'A')\n",
    "    ho_21 = d.holidays_for_year_and_zone(2021, 'A')\n",
    "    \n",
    "    jf_20 = JoursFeries.for_year(2020)\n",
    "    jf_21 = JoursFeries.for_year(2021)\n",
    "    \n",
    "    df_jf_21 =pd.DataFrame(jf_21.keys(),jf_21.values(),columns=['fete']).reset_index().rename(columns={'index':'date'})\n",
    "    df_jf_20 =pd.DataFrame(jf_20.keys(),jf_20.values(),columns=['fete']).reset_index().rename(columns={'index':'date'})\n",
    "    df_jf = pd.concat([df_jf_20,df_jf_21]).reset_index().drop('index',axis=1)\n",
    "    df_jf['date'] = pd.to_datetime(df_jf['date'], format='%Y-%m-%d')\n",
    "    \n",
    "    df_ho20 = pd.DataFrame({'date': key, 'vacances': value['vacances_zone_a']} for key, value in ho_20.items())\n",
    "    df_ho21 = pd.DataFrame({'date': key, 'vacances': value['vacances_zone_a']} for key, value in ho_20.items())\n",
    "    df_ho = pd.concat([df_ho20,df_ho21]).reset_index().drop('index',axis=1)\n",
    "    df_ho['date'] = pd.to_datetime(df_ho['date'], format='%Y-%m-%d')\n",
    "    \n",
    "    \n",
    "    X['date_merge'] = pd.to_datetime(X['date'].dt.strftime('%Y-%m-%d'), format='%Y-%m-%d')\n",
    "    \n",
    "    X_final = X.merge(df_jf, how='left', left_on='date_merge', right_on='date', suffixes=('','_drop')).drop(columns={'date_drop'})\n",
    "    X_final['is_ferie'] = X_final['fete'].map(lambda x: 0 if pd.isna(x) else 1)\n",
    "    \n",
    "    X_final = X_final.merge(df_ho, how='left', left_on='date_merge', right_on='date', suffixes=('','_drop')).drop(columns={'date_drop'})\n",
    "    X_final['is_vacances'] = X_final['vacances'].map(lambda x: 0 if pd.isna(x) else 1)\n",
    "    \n",
    "    return X_final.drop_duplicates().drop(['fete','vacances'],axis=1)"
   ]
  },
  {
   "cell_type": "code",
   "execution_count": 120,
   "id": "7e04f83f-3824-4a7c-b9c3-c10679fd6f28",
   "metadata": {},
   "outputs": [],
   "source": [
    "def generate_lockdown_dates(X):\n",
    "    date_range = pd.date_range(start='2020-09-01', end='2021-09-09', freq='D')\n",
    "    df = pd.DataFrame({'Date': date_range})\n",
    "    lockdown_periods = [('2020-10-31', '2020-12-14'), ('2021-04-04', '2021-05-02')]\n",
    "    for period_start, period_end in lockdown_periods:\n",
    "        df.loc[(df['Date'] >= period_start) & (df['Date'] <= period_end), 'Lockdown'] = True\n",
    "\n",
    "    df['Lockdown'] = df['Lockdown'].fillna(0).map(lambda x: 1 if True else 0)\n",
    "    df = df.reset_index().rename(columns={'Date': 'date_merge'})\n",
    "    X['date_merge'] = pd.to_datetime(X['date'].dt.strftime('%Y-%m-%d'), format='%Y-%m-%d')\n",
    "    X_ldd = X.merge(df, how = 'left', on = 'date_merge')\n",
    "    X_ldd = X_ldd.drop(['date_merge'], axis=1)\n",
    "    \n",
    "    return X_ldd\n"
   ]
  },
  {
   "cell_type": "code",
   "execution_count": 113,
   "id": "fc03ca6d-495b-4c17-a224-0869e12aaad3",
   "metadata": {},
   "outputs": [],
   "source": [
    "def encode_cyclical_features(df):\n",
    "    columns = ['hour', 'day', 'month', 'weekday']\n",
    "    max_value = {'hour': 24, 'day': 31, 'month': 31, 'weekday': 7}\n",
    "\n",
    "    for column in df:\n",
    "        if column in columns:\n",
    "            df[column + '_sin'] = np.sin(2 * np.pi * df[column]/max_value[column])\n",
    "            df[column + '_cos'] = np.cos(2 * np.pi * df[column]/max_value[column])\n",
    "            df.drop(columns=[column], inplace=True)  \n",
    "    return df"
   ]
  },
  {
   "cell_type": "markdown",
   "id": "cd3b01bf-98a8-476e-8ebc-9c2339cc4467",
   "metadata": {},
   "source": [
    "# Pipelines"
   ]
  },
  {
   "cell_type": "code",
   "execution_count": 121,
   "id": "124d1046-3a93-4e4e-b837-000af0e7d04b",
   "metadata": {},
   "outputs": [
    {
     "name": "stdout",
     "output_type": "stream",
     "text": [
      "Root Mean Squared Error: 0.6154593175604542\n"
     ]
    }
   ],
   "source": [
    "X_train, y_train, X_test, y_test = train_test_split_temporal(X, y, delta_threshold=\"30 days\")\n",
    "\n",
    "model = xgb.XGBRegressor(colsample_bynode=0.6,\n",
    "        colsample_bytree=0.6,\n",
    "        colsample_bylevel=0.5,\n",
    "        learning_rate=0.1,\n",
    "        n_estimators=400,\n",
    "        max_depth=10,\n",
    "        subsample=0.8)\n",
    "\n",
    "date_cols = FunctionTransformer(_encode_dates)\n",
    "add_weather = FunctionTransformer(create_x_weather)\n",
    "keep_specific_columns = FunctionTransformer(filter_columns)\n",
    "add_vacances_et_jours_feries = FunctionTransformer(is_jour_ferie)\n",
    "check_lockdown = FunctionTransformer(generate_lockdown_dates)\n",
    "cycle_encoding = FunctionTransformer(encode_cyclical_features)\n",
    "\n",
    "\n",
    "#num_features = ['temp', 'precip', 'windspeed', 'visibility']\n",
    "\n",
    "col_transformer = ColumnTransformer(\n",
    "    transformers=[\n",
    "        \n",
    "        ('num', StandardScaler(), num_features)\n",
    "    ],\n",
    "    remainder='passthrough'  # This keeps all other columns unchanged\n",
    ")\n",
    "\n",
    "pipe = Pipeline([\n",
    "    \n",
    "    ('filter_columns',keep_specific_columns),\n",
    "    #('add_vacances_et_jours_feries', add_vacances_et_jours_feries),\n",
    "    #('add_weather', add_weather),\n",
    "    ('check_lockdown',check_lockdown),\n",
    "    ('date_encode', FunctionTransformer(_encode_dates)),\n",
    "    ('cycle_encoding',cycle_encoding),\n",
    "    #('scaling_num_features', col_transformer),\n",
    "    ('model', model)\n",
    "])\n",
    "\n",
    "\n",
    "pipe.fit(X_train, y_train)\n",
    "\n",
    "predictions = pipe.predict(X_test)\n",
    "\n",
    "rmse = np.sqrt(mean_squared_error(y_test, predictions))\n",
    "print(f'Root Mean Squared Error: {rmse}')"
   ]
  },
  {
   "cell_type": "markdown",
   "id": "6371cc02-5097-4dab-9d85-83e286faa4b8",
   "metadata": {},
   "source": [
    "# Cat Boost"
   ]
  },
  {
   "cell_type": "code",
   "execution_count": 66,
   "id": "b867c023-b3b8-4cd0-b79a-9134b8dc8ce8",
   "metadata": {},
   "outputs": [
    {
     "data": {
      "text/plain": [
       "(496827, 13)"
      ]
     },
     "execution_count": 66,
     "metadata": {},
     "output_type": "execute_result"
    }
   ],
   "source": [
    "is_jour_ferie(X).shape"
   ]
  },
  {
   "cell_type": "code",
   "execution_count": 129,
   "id": "8cb3dcbd-59f9-4625-bcaa-e0a5a9b59140",
   "metadata": {},
   "outputs": [
    {
     "name": "stdout",
     "output_type": "stream",
     "text": [
      "Root Mean Squared Error: 0.5813782282531081\n"
     ]
    }
   ],
   "source": [
    "cat = CatBoostRegressor(\n",
    "    depth=10,\n",
    "    iterations=1000,\n",
    "    rsm=0.25,\n",
    "    sampling_frequency=\"PerTree\",\n",
    "    subsample=0.7,\n",
    "    verbose=0,\n",
    ")\n",
    "\n",
    "date_cols = FunctionTransformer(_encode_dates)\n",
    "add_weather = FunctionTransformer(create_x_weather)\n",
    "keep_specific_columns = FunctionTransformer(filter_columns)\n",
    "add_vacances_et_jours_feries = FunctionTransformer(is_jour_ferie)\n",
    "check_lockdown = FunctionTransformer(generate_lockdown_dates)\n",
    "cycle_encoding = FunctionTransformer(encode_cyclical_features)\n",
    "\n",
    "\n",
    "#num_features = ['temp', 'precip', 'windspeed', 'visibility']\n",
    "\n",
    "col_transformer = ColumnTransformer(\n",
    "    transformers=[\n",
    "        \n",
    "        ('num', StandardScaler(), num_features)\n",
    "    ],\n",
    "    remainder='passthrough'  # This keeps all other columns unchanged\n",
    ")\n",
    "\n",
    "pipe = Pipeline([\n",
    "    \n",
    "    ('filter_columns',keep_specific_columns),\n",
    "    #('add_vacances_et_jours_feries', add_vacances_et_jours_feries),\n",
    "    ('add_weather', add_weather),\n",
    "    ('check_lockdown',check_lockdown),\n",
    "    ('date_encode', FunctionTransformer(_encode_dates)),\n",
    "    ('cycle_encoding',cycle_encoding),\n",
    "    ('scaling_num_features', col_transformer),\n",
    "    ('model', cat)\n",
    "])\n",
    "\n",
    "\n",
    "pipe.fit(X_train, y_train)\n",
    "\n",
    "predictions = pipe.predict(X_test)\n",
    "\n",
    "rmse = np.sqrt(mean_squared_error(y_test, predictions))\n",
    "print(f'Root Mean Squared Error: {rmse}')"
   ]
  },
  {
   "cell_type": "markdown",
   "id": "715e46e5-827c-46da-98d2-58c06e1ed247",
   "metadata": {},
   "source": [
    "# Format Output"
   ]
  },
  {
   "cell_type": "code",
   "execution_count": 130,
   "id": "a266dbdb-bf8c-46af-a590-775fa04394ea",
   "metadata": {},
   "outputs": [],
   "source": [
    "pipe.fit(X,y)\n",
    "submission = pipe.predict(X_final_test)\n",
    "pd.Series(submission).to_frame().rename_axis('Id').rename(columns={0:'log_bike_count'}).to_csv('submission14_81223.csv')"
   ]
  },
  {
   "cell_type": "code",
   "execution_count": 68,
   "id": "0c2c661d-db01-4e39-889b-cf27ba298ab5",
   "metadata": {},
   "outputs": [
    {
     "data": {
      "text/plain": [
       "(None, None)"
      ]
     },
     "execution_count": 68,
     "metadata": {},
     "output_type": "execute_result"
    }
   ],
   "source": [
    "pipe_test.fit_transform(X).to_csv('X_test_opti.csv'), pd.Series(y).to_csv('y_test_opti.csv')"
   ]
  }
 ],
 "metadata": {
  "kernelspec": {
   "display_name": "Python 3 (ipykernel)",
   "language": "python",
   "name": "python3"
  },
  "language_info": {
   "codemirror_mode": {
    "name": "ipython",
    "version": 3
   },
   "file_extension": ".py",
   "mimetype": "text/x-python",
   "name": "python",
   "nbconvert_exporter": "python",
   "pygments_lexer": "ipython3",
   "version": "3.10.6"
  }
 },
 "nbformat": 4,
 "nbformat_minor": 5
}
