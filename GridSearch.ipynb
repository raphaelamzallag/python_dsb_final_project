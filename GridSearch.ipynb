{
 "cells": [
  {
   "cell_type": "markdown",
   "id": "58101f76-8ec1-43d4-807b-16ca76e2fe69",
   "metadata": {},
   "source": [
    "# Imports "
   ]
  },
  {
   "cell_type": "code",
   "execution_count": null,
   "id": "277e2234-429e-4348-8697-61248f51142f",
   "metadata": {},
   "outputs": [],
   "source": [
    "import warnings\n",
    "warnings.filterwarnings(\"ignore\")\n",
    "\n",
    "from pathlib import Path\n",
    "import numpy as np\n",
    "import pandas as pd\n",
    "import matplotlib.pyplot as plt\n",
    "import utils\n",
    "from sklearn.metrics import mean_squared_error\n",
    "from sklearn.compose import ColumnTransformer\n",
    "from sklearn.preprocessing import FunctionTransformer, OneHotEncoder, StandardScaler, MinMaxScaler\n",
    "from sklearn.pipeline import Pipeline\n",
    "from sklearn.model_selection import GridSearchCV\n",
    "from catboost import CatBoostRegressor"
   ]
  },
  {
   "cell_type": "code",
   "execution_count": null,
   "id": "f64cd699-6077-4ad1-ae43-58b4b660d02d",
   "metadata": {},
   "outputs": [],
   "source": [
    "X, y = utils.get_train_data()\n",
    "X_final_test = pd.read_parquet(Path(\"data\") / \"final_test.parquet\")"
   ]
  },
  {
   "cell_type": "markdown",
   "id": "eed942d5-4573-4eea-8cb9-0e3ed01ec7f8",
   "metadata": {},
   "source": [
    "## GridSearchCV"
   ]
  },
  {
   "cell_type": "code",
   "execution_count": null,
   "id": "281ddfad-046d-4d68-bb02-43d6d2a12164",
   "metadata": {},
   "outputs": [],
   "source": [
    "num_features = ['temp', 'precip', 'windspeed', 'visibility']\n",
    "cat_features = ['counter_id']\n",
    "time_features = ['hour','month','weekday','day']\n",
    "\n",
    "col_transformer = ColumnTransformer(\n",
    "    transformers=[\n",
    "        ('num', StandardScaler(), num_features),\n",
    "        ('cat', OneHotEncoder(sparse=False), cat_features),\n",
    "        ('time', FunctionTransformer(utils.encode_cyclical_features), time_features)\n",
    "    ],\n",
    "    remainder='passthrough'\n",
    ")\n",
    "\n",
    "X, y = utils.get_train_data()\n",
    "\n",
    "X_final_test = pd.read_parquet(Path(\"data\") / \"final_test.parquet\")\n",
    "X_train, y_train, X_test, y_test = utils.train_test_split_temporal(X, y, delta_threshold=\"30 days\")"
   ]
  },
  {
   "cell_type": "code",
   "execution_count": null,
   "id": "707db801-bccf-4ffd-80dc-e2a0f4bdbd46",
   "metadata": {},
   "outputs": [],
   "source": [
    "pipe = Pipeline([\n",
    "    ('prepro',FunctionTransformer(utils.prepro)),\n",
    "    ('col', col_transformer),\n",
    "])\n",
    "\n",
    "X_train_merged = pipe.fit_transform(X_train)"
   ]
  },
  {
   "cell_type": "code",
   "execution_count": null,
   "id": "49952235-2b1c-4dc8-af69-0c7404dd1763",
   "metadata": {},
   "outputs": [],
   "source": [
    "param_grid = {\n",
    "    'depth': list(range(5, 14)),\n",
    "    'iterations': list(range(500, 1501, 250)),\n",
    "    'rsm': [round(x, 2) for x in list(np.arange(0.25, 0.41, 0.05))],\n",
    "    'subsample': [round(x, 1) for x in list(np.arange(0.5, 0.81, 0.1))],  # Ranges from 0.5 to 0.8 in steps of 0.1\n",
    "    'verbose': [0]\n",
    "}\n",
    "\n",
    "catboost_model = CatBoostRegressor()\n",
    "\n",
    "\n",
    "grid_search = GridSearchCV(catboost_model, param_grid, scoring='neg_mean_squared_error', cv=5, n_jobs=-1)\n",
    "grid_search.fit(X_train_merged, y_train)\n",
    "\n",
    "# Print the best parameters\n",
    "best_params = grid_search.best_params_\n",
    "print(\"Best Parameters:\", best_params)"
   ]
  }
 ],
 "metadata": {
  "kernelspec": {
   "display_name": "Python 3 (ipykernel)",
   "language": "python",
   "name": "python3"
  },
  "language_info": {
   "codemirror_mode": {
    "name": "ipython",
    "version": 3
   },
   "file_extension": ".py",
   "mimetype": "text/x-python",
   "name": "python",
   "nbconvert_exporter": "python",
   "pygments_lexer": "ipython3",
   "version": "3.10.6"
  }
 },
 "nbformat": 4,
 "nbformat_minor": 5
}
