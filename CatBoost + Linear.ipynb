{
 "cells": [
  {
   "cell_type": "code",
   "execution_count": 55,
   "id": "04bdfae5-37bc-4f69-8e3d-8e0272cecf29",
   "metadata": {},
   "outputs": [],
   "source": [
    " import warnings\n",
    "warnings.filterwarnings(\"ignore\")\n",
    "\n",
    "from pathlib import Path\n",
    "import numpy as np\n",
    "import pandas as pd\n",
    "import matplotlib.pyplot as plt\n",
    "import utils\n",
    "from pathlib import Path\n",
    "import xgboost as xgb\n",
    "from sklearn.model_selection import train_test_split\n",
    "from sklearn.metrics import mean_squared_error\n",
    "from sklearn.compose import ColumnTransformer\n",
    "from sklearn.preprocessing import FunctionTransformer, OneHotEncoder, StandardScaler\n",
    "from sklearn.pipeline import make_pipeline, Pipeline\n",
    "from lockdowndates.core import LockdownDates\n",
    "from sklearn.linear_model import LinearRegression, Ridge\n",
    "\n",
    "from catboost import CatBoostRegressor\n",
    "from jours_feries_france import JoursFeries\n",
    "from vacances_scolaires_france import SchoolHolidayDates\n",
    "from datetime import timedelta, date\n",
    "\n",
    "import pandas as pd\n",
    "from sklearn.model_selection import train_test_split\n",
    "from sklearn.preprocessing import StandardScaler\n",
    "from tensorflow.keras.models import Sequential\n",
    "from tensorflow.keras.layers import Dense, BatchNormalization\n",
    "from tensorflow.keras.regularizers import l2\n",
    "from tensorflow.keras.callbacks import EarlyStopping\n",
    "from tensorflow.keras.optimizers import Adam\n"
   ]
  },
  {
   "cell_type": "code",
   "execution_count": 29,
   "id": "d81f3001-e405-40d7-a372-7337af48115f",
   "metadata": {},
   "outputs": [],
   "source": [
    "X, y = utils.get_train_data()\n",
    "X_final_test = pd.read_parquet(Path(\"data\") / \"final_test.parquet\")"
   ]
  },
  {
   "cell_type": "code",
   "execution_count": 50,
   "id": "0bbba11d-ebad-4f73-a85b-df5931628fdc",
   "metadata": {},
   "outputs": [
    {
     "data": {
      "text/plain": [
       "Index(['counter_id', 'latitude', 'longitude', 'is_couvre_feu', 'temp',\n",
       "       'precip', 'windspeed', 'visibility', 'icon_encoded', 'is_lockdown',\n",
       "       'is_ferie', 'is_vacances', 'year', 'month', 'day', 'weekday', 'hour',\n",
       "       'is_weekend'],\n",
       "      dtype='object')"
      ]
     },
     "execution_count": 50,
     "metadata": {},
     "output_type": "execute_result"
    }
   ],
   "source": [
    "preproc = utils.prepro(X)\n",
    "preproc.columns"
   ]
  },
  {
   "cell_type": "code",
   "execution_count": 53,
   "id": "a9d04dcb-b7ef-4cae-82b2-fcc1dc4da9f7",
   "metadata": {},
   "outputs": [
    {
     "data": {
      "text/plain": [
       "<matplotlib.collections.PathCollection at 0x2bcd63520>"
      ]
     },
     "execution_count": 53,
     "metadata": {},
     "output_type": "execute_result"
    },
    {
     "data": {
      "image/png": "[encoded data removed]",
      "text/plain": [
       "<Figure size 640x480 with 1 Axes>"
      ]
     },
     "metadata": {},
     "output_type": "display_data"
    }
   ],
   "source": [
    "plt.scatter(preproc['counter_id'],y)"
   ]
  },
  {
   "cell_type": "code",
   "execution_count": 61,
   "id": "9c67ff1b-d855-42d8-a5a1-2b743dd5dd5f",
   "metadata": {},
   "outputs": [],
   "source": [
    "import numpy as np\n",
    "from scipy import stats\n",
    "\n",
    "def remove_outliers(X, y, z_score_threshold=2):\n",
    "    \"\"\"\n",
    "    Remove outliers from the dataset based on the z-score of the target variable.\n",
    "\n",
    "    Parameters:\n",
    "    X (np.array): 2D array with the input features.\n",
    "    y (np.array): 1D array with the target variable.\n",
    "    z_score_threshold (float): The threshold of the z-score to identify outliers.\n",
    "\n",
    "    Returns:\n",
    "    np.array: Cleaned 2D array with the input features.\n",
    "    np.array: Cleaned 1D array with the target variable.\n",
    "    \"\"\"\n",
    "# Calculate z-scores of the target variable\n",
    "    z_scores = np.abs(stats.zscore(y))\n",
    "    \n",
    "    # Identify indices of non-outliers\n",
    "    non_outliers = (z_scores < z_score_threshold)\n",
    "    \n",
    "    # Remove outliers from the input features and the target variable\n",
    "    X_clean = X[non_outliers]\n",
    "    y_clean = y[non_outliers]\n",
    "    \n",
    "    return X_clean, y_clean\n",
    "\n",
    "# Assuming X is a DataFrame and y is a Series\n",
    "X_clean, y_clean = remove_outliers(X, y, z_score_threshold=2)\n",
    "# Now you can use X_clean and y_clean for further modeling."
   ]
  },
  {
   "cell_type": "markdown",
   "id": "da3b4ddc-09d6-4a89-9f00-53cb449dcbcc",
   "metadata": {},
   "source": [
    "## Dense"
   ]
  },
  {
   "cell_type": "code",
   "execution_count": 62,
   "id": "973fdfff-89b1-4089-b1cb-57e58ded4b95",
   "metadata": {},
   "outputs": [],
   "source": [
    "num_features = ['temp', 'precip', 'windspeed', 'visibility']\n",
    "cat_features = ['counter_id']\n",
    "time_features = ['hour','month','weekday','day']\n",
    "\n",
    "col_transformer = ColumnTransformer(\n",
    "    transformers=[\n",
    "        ('num', StandardScaler(), num_features),\n",
    "        ('cat', OneHotEncoder(sparse=False), cat_features),\n",
    "       # ('time', FunctionTransformer(utils.encode_cyclical_features), time_features)\n",
    "    ],\n",
    "    remainder='passthrough'\n",
    ")\n",
    "\n",
    "\n",
    "X_final_test = pd.read_parquet(Path(\"data\") / \"final_test.parquet\")\n",
    "\n",
    "X_train, X_test, y_train, y_test = train_test_split(X_clean, y_clean, test_size=0.2, random_state=42)"
   ]
  },
  {
   "cell_type": "code",
   "execution_count": 63,
   "id": "df7b467b-4eae-42cb-9798-e06ba16f3233",
   "metadata": {},
   "outputs": [
    {
     "name": "stdout",
     "output_type": "stream",
     "text": [
      "Root Mean Squared Error: 0.3599981562061909\n"
     ]
    }
   ],
   "source": [
    "cat = CatBoostRegressor(\n",
    "    depth=10,\n",
    "    iterations=1000,\n",
    "    rsm=0.25,\n",
    "    sampling_frequency=\"PerTree\",\n",
    "    subsample=0.7,\n",
    "    verbose=0,\n",
    ")\n",
    "\n",
    "pipe = Pipeline([\n",
    "    ('prepro',FunctionTransformer(utils.prepro)),\n",
    "    ('col', col_transformer),\n",
    "    ('model', cat)\n",
    "])\n",
    "\n",
    "\n",
    "pipe.fit(X_train, y_train)\n",
    "\n",
    "predictions = pipe.predict(X_test)\n",
    "\n",
    "rmse = np.sqrt(mean_squared_error(y_test, predictions))\n",
    "print(f'Root Mean Squared Error: {rmse}')"
   ]
  },
  {
   "cell_type": "code",
   "execution_count": 64,
   "id": "4693b532-abfe-48ca-86a5-55edd9f3059e",
   "metadata": {},
   "outputs": [],
   "source": [
    "catboost_predictions_train = pipe.predict(X_train)\n",
    "catboost_predictions_test = pipe.predict(X_test)\n",
    "\n"
   ]
  },
  {
   "cell_type": "code",
   "execution_count": 65,
   "id": "d33a97e2-c068-4576-84b5-e85aab6e584f",
   "metadata": {},
   "outputs": [],
   "source": [
    "pipe2 = Pipeline([\n",
    "    ('prepro',FunctionTransformer(utils.prepro)),\n",
    "    ('col', col_transformer),\n",
    "])\n",
    "X_train_prepro = pipe2.fit_transform(X_train)\n",
    "X_test_prepro = pipe2.fit_transform(X_test)\n",
    "\n",
    "\n",
    "X_train_with_predictions = np.hstack((X_train_prepro, catboost_predictions_train.reshape(-1, 1)))\n",
    "X_test_with_predictions = np.hstack((X_test_prepro, catboost_predictions_test.reshape(-1, 1)))\n"
   ]
  },
  {
   "cell_type": "code",
   "execution_count": 66,
   "id": "dc8dd2f6-38e7-485a-8205-9fed7b0e56e2",
   "metadata": {},
   "outputs": [
    {
     "name": "stdout",
     "output_type": "stream",
     "text": [
      "Root Mean Squared Error: 0.3595244238148336\n"
     ]
    }
   ],
   "source": [
    "linear = Ridge(alpha=0.9)\n",
    "linear.fit(X_train_with_predictions, y_train)\n",
    "\n",
    "y_pred = linear.predict(X_test_with_predictions)\n",
    "rmse = np.sqrt(mean_squared_error(y_test, y_pred))\n",
    "print(f'Root Mean Squared Error: {rmse}')"
   ]
  },
  {
   "cell_type": "code",
   "execution_count": null,
   "id": "7b7ff34f-e75e-426d-ac5f-2a7d27d40f2e",
   "metadata": {},
   "outputs": [],
   "source": []
  },
  {
   "cell_type": "code",
   "execution_count": null,
   "id": "1c18e492-35f5-456c-860f-9960809f5bb9",
   "metadata": {},
   "outputs": [],
   "source": []
  },
  {
   "cell_type": "code",
   "execution_count": 71,
   "id": "9270bb7e-27ed-46df-a615-65746313bf7c",
   "metadata": {},
   "outputs": [
    {
     "data": {
      "image/png": "[encoded data removed]",
      "text/plain": [
       "<Figure size 1000x600 with 1 Axes>"
      ]
     },
     "metadata": {},
     "output_type": "display_data"
    }
   ],
   "source": [
    "residuals = y_test - y_pred\n",
    "\n",
    "plt.figure(figsize=(10,6))\n",
    "plt.scatter(y_test, y_pred)\n",
    "plt.title(\"Residual Plot\")\n",
    "plt.xlabel(\"Predicted Values\")\n",
    "plt.ylabel(\"Residuals\")\n",
    "plt.axhline(y=0, color='r', linestyle='--')\n",
    "plt.show()"
   ]
  },
  {
   "cell_type": "code",
   "execution_count": null,
   "id": "faacff66-3b6f-4e5c-9942-b4e1631a537f",
   "metadata": {},
   "outputs": [],
   "source": []
  },
  {
   "cell_type": "code",
   "execution_count": null,
   "id": "2e873184-3650-4b60-a16c-ff6040619d83",
   "metadata": {},
   "outputs": [],
   "source": []
  },
  {
   "cell_type": "code",
   "execution_count": null,
   "id": "24ea4900-58e1-434c-b64f-628eba0493d1",
   "metadata": {},
   "outputs": [],
   "source": []
  },
  {
   "cell_type": "code",
   "execution_count": null,
   "id": "9f701cfc-905a-49a2-9f29-abc10380cc25",
   "metadata": {},
   "outputs": [],
   "source": []
  },
  {
   "cell_type": "code",
   "execution_count": null,
   "id": "e1e856b7-6ab0-41be-aa15-f6892a3a53cd",
   "metadata": {},
   "outputs": [],
   "source": []
  },
  {
   "cell_type": "code",
   "execution_count": 39,
   "id": "d038e8d4-22b6-49a0-941b-4e685a4bf198",
   "metadata": {},
   "outputs": [],
   "source": [
    "submission = pipe.predict(X_final_test)\n",
    "pd.DataFrame(submission, columns=[\"log_bike_count\"]).rename_axis('Id').to_csv('submission35_101223.csv')"
   ]
  },
  {
   "cell_type": "code",
   "execution_count": 31,
   "id": "01605fbd-3b64-4246-b273-2f53e4e5eb5d",
   "metadata": {},
   "outputs": [],
   "source": []
  },
  {
   "cell_type": "code",
   "execution_count": null,
   "id": "56c3fda6-a3bc-4b7d-bdeb-036e395e7828",
   "metadata": {},
   "outputs": [],
   "source": []
  },
  {
   "cell_type": "code",
   "execution_count": null,
   "id": "0b35b14e-2f60-4948-ac0f-12b896387e75",
   "metadata": {},
   "outputs": [],
   "source": []
  },
  {
   "cell_type": "code",
   "execution_count": 67,
   "id": "f85630ae-77ac-407a-ae04-20243c29f82b",
   "metadata": {},
   "outputs": [
    {
     "name": "stdout",
     "output_type": "stream",
     "text": [
      "Collecting pycaret\n",
      "  Downloading pycaret-3.2.0-py3-none-any.whl.metadata (17 kB)\n",
      "Collecting category-encoders>=2.4.0 (from pycaret)\n",
      "  Downloading category_encoders-2.6.3-py2.py3-none-any.whl.metadata (8.0 kB)\n",
      "Collecting cloudpickle (from pycaret)\n",
      "  Downloading cloudpickle-3.0.0-py3-none-any.whl.metadata (7.0 kB)\n",
      "Collecting deprecation>=2.1.0 (from pycaret)\n",
      "  Downloading deprecation-2.1.0-py2.py3-none-any.whl (11 kB)\n",
      "Collecting imbalanced-learn>=0.8.1 (from pycaret)\n",
      "  Downloading imbalanced_learn-0.11.0-py3-none-any.whl.metadata (8.3 kB)\n",
      "Collecting importlib-metadata>=4.12.0 (from pycaret)\n",
      "  Downloading importlib_metadata-7.0.0-py3-none-any.whl.metadata (4.9 kB)\n",
      "Requirement already satisfied: ipython>=5.5.0 in /Users/raphaelamzallag/.pyenv/versions/3.10.6/envs/final_pfds/lib/python3.10/site-packages (from pycaret) (8.18.1)\n",
      "Requirement already satisfied: ipywidgets>=7.6.5 in /Users/raphaelamzallag/.pyenv/versions/3.10.6/envs/final_pfds/lib/python3.10/site-packages (from pycaret) (8.1.1)\n",
      "Requirement already satisfied: jinja2>=1.2 in /Users/raphaelamzallag/.pyenv/versions/3.10.6/envs/final_pfds/lib/python3.10/site-packages (from pycaret) (3.1.2)\n",
      "Requirement already satisfied: joblib>=1.2.0 in /Users/raphaelamzallag/.pyenv/versions/3.10.6/envs/final_pfds/lib/python3.10/site-packages (from pycaret) (1.3.2)\n",
      "Collecting kaleido>=0.2.1 (from pycaret)\n",
      "  Downloading kaleido-0.2.1-py2.py3-none-macosx_11_0_arm64.whl (85.8 MB)\n",
      "\u001b[2K     \u001b[90m━━━━━━━━━━━━━━━━━━━━━━━━━━━━━━━━━━━━━━━━\u001b[0m \u001b[32m85.8/85.8 MB\u001b[0m \u001b[31m17.4 MB/s\u001b[0m eta \u001b[36m0:00:00\u001b[0m00:01\u001b[0m00:01\u001b[0m\n",
      "\u001b[?25hCollecting lightgbm>=3.0.0 (from pycaret)\n",
      "  Downloading lightgbm-4.1.0.tar.gz (1.7 MB)\n",
      "\u001b[2K     \u001b[90m━━━━━━━━━━━━━━━━━━━━━━━━━━━━━━━━━━━━━━━━\u001b[0m \u001b[32m1.7/1.7 MB\u001b[0m \u001b[31m23.3 MB/s\u001b[0m eta \u001b[36m0:00:00\u001b[0ma \u001b[36m0:00:01\u001b[0m\n",
      "\u001b[?25h  Installing build dependencies ... \u001b[?25ldone\n",
      "\u001b[?25h  Getting requirements to build wheel ... \u001b[?25ldone\n",
      "\u001b[?25h  Installing backend dependencies ... \u001b[?25ldone\n",
      "\u001b[?25h  Preparing metadata (pyproject.toml) ... \u001b[?25ldone\n",
      "\u001b[?25hRequirement already satisfied: markupsafe>=2.0.1 in /Users/raphaelamzallag/.pyenv/versions/3.10.6/envs/final_pfds/lib/python3.10/site-packages (from pycaret) (2.1.3)\n",
      "Collecting matplotlib<=3.6,>=3.3.0 (from pycaret)\n",
      "  Downloading matplotlib-3.6.0-cp310-cp310-macosx_11_0_arm64.whl (7.2 MB)\n",
      "\u001b[2K     \u001b[90m━━━━━━━━━━━━━━━━━━━━━━━━━━━━━━━━━━━━━━━━\u001b[0m \u001b[32m7.2/7.2 MB\u001b[0m \u001b[31m13.9 MB/s\u001b[0m eta \u001b[36m0:00:00\u001b[0m00:01\u001b[0m00:01\u001b[0m\n",
      "\u001b[?25hRequirement already satisfied: nbformat>=4.2.0 in /Users/raphaelamzallag/.pyenv/versions/3.10.6/envs/final_pfds/lib/python3.10/site-packages (from pycaret) (5.9.2)\n",
      "Collecting numba>=0.55.0 (from pycaret)\n",
      "  Using cached numba-0.58.1-cp310-cp310-macosx_11_0_arm64.whl.metadata (2.7 kB)\n",
      "Requirement already satisfied: numpy<1.27,>=1.21 in /Users/raphaelamzallag/.pyenv/versions/3.10.6/envs/final_pfds/lib/python3.10/site-packages (from pycaret) (1.26.2)\n",
      "Requirement already satisfied: pandas<2.0.0,>=1.3.0 in /Users/raphaelamzallag/.pyenv/versions/3.10.6/envs/final_pfds/lib/python3.10/site-packages (from pycaret) (1.4.0)\n",
      "Collecting plotly-resampler>=0.8.3.1 (from pycaret)\n",
      "  Downloading plotly_resampler-0.9.1-py3-none-any.whl.metadata (12 kB)\n",
      "Requirement already satisfied: plotly>=5.0.0 in /Users/raphaelamzallag/.pyenv/versions/3.10.6/envs/final_pfds/lib/python3.10/site-packages (from pycaret) (5.18.0)\n",
      "Collecting pmdarima!=1.8.1,<3.0.0,>=1.8.0 (from pycaret)\n",
      "  Downloading pmdarima-2.0.4-cp310-cp310-macosx_11_0_arm64.whl.metadata (7.8 kB)\n",
      "Requirement already satisfied: psutil>=5.9.0 in /Users/raphaelamzallag/.pyenv/versions/3.10.6/envs/final_pfds/lib/python3.10/site-packages (from pycaret) (5.9.6)\n",
      "Collecting pyod>=1.0.8 (from pycaret)\n",
      "  Downloading pyod-1.1.2.tar.gz (160 kB)\n",
      "\u001b[2K     \u001b[90m━━━━━━━━━━━━━━━━━━━━━━━━━━━━━━━━━━━━━━\u001b[0m \u001b[32m160.5/160.5 kB\u001b[0m \u001b[31m12.5 MB/s\u001b[0m eta \u001b[36m0:00:00\u001b[0m\n",
      "\u001b[?25h  Preparing metadata (setup.py) ... \u001b[?25ldone\n",
      "\u001b[?25hRequirement already satisfied: requests>=2.27.1 in /Users/raphaelamzallag/.pyenv/versions/3.10.6/envs/final_pfds/lib/python3.10/site-packages (from pycaret) (2.31.0)\n",
      "Collecting schemdraw==0.15 (from pycaret)\n",
      "  Downloading schemdraw-0.15-py3-none-any.whl (106 kB)\n",
      "\u001b[2K     \u001b[90m━━━━━━━━━━━━━━━━━━━━━━━━━━━━━━━━━━━━━━\u001b[0m \u001b[32m106.8/106.8 kB\u001b[0m \u001b[31m11.9 MB/s\u001b[0m eta \u001b[36m0:00:00\u001b[0m\n",
      "\u001b[?25hCollecting scikit-learn<1.3.0,>=1.0 (from pycaret)\n",
      "  Downloading scikit_learn-1.2.2-cp310-cp310-macosx_12_0_arm64.whl (8.5 MB)\n",
      "\u001b[2K     \u001b[90m━━━━━━━━━━━━━━━━━━━━━━━━━━━━━━━━━━━━━━━━\u001b[0m \u001b[32m8.5/8.5 MB\u001b[0m \u001b[31m21.9 MB/s\u001b[0m eta \u001b[36m0:00:00\u001b[0m00:01\u001b[0m00:01\u001b[0m\n",
      "\u001b[?25hCollecting scikit-plot>=0.3.7 (from pycaret)\n",
      "  Downloading scikit_plot-0.3.7-py3-none-any.whl (33 kB)\n",
      "Collecting scipy~=1.10.1 (from pycaret)\n",
      "  Downloading scipy-1.10.1-cp310-cp310-macosx_12_0_arm64.whl (28.8 MB)\n",
      "\u001b[2K     \u001b[90m━━━━━━━━━━━━━━━━━━━━━━━━━━━━━━━━━━━━━━━━\u001b[0m \u001b[32m28.8/28.8 MB\u001b[0m \u001b[31m17.9 MB/s\u001b[0m eta \u001b[36m0:00:00\u001b[0m00:01\u001b[0m00:01\u001b[0m\n",
      "\u001b[?25hCollecting sktime!=0.17.1,!=0.17.2,!=0.18.0,<0.22.0,>=0.16.1 (from pycaret)\n",
      "  Downloading sktime-0.21.1-py3-none-any.whl.metadata (25 kB)\n",
      "Collecting statsmodels>=0.12.1 (from pycaret)\n",
      "  Downloading statsmodels-0.14.0-cp310-cp310-macosx_11_0_arm64.whl (9.4 MB)\n",
      "\u001b[2K     \u001b[90m━━━━━━━━━━━━━━━━━━━━━━━━━━━━━━━━━━━━━━━━\u001b[0m \u001b[32m9.4/9.4 MB\u001b[0m \u001b[31m22.2 MB/s\u001b[0m eta \u001b[36m0:00:00\u001b[0ma \u001b[36m0:00:01\u001b[0m\n",
      "\u001b[?25hCollecting tbats>=1.1.3 (from pycaret)\n",
      "  Downloading tbats-1.1.3-py3-none-any.whl (44 kB)\n",
      "\u001b[2K     \u001b[90m━━━━━━━━━━━━━━━━━━━━━━━━━━━━━━━━━━━━━━━━\u001b[0m \u001b[32m44.0/44.0 kB\u001b[0m \u001b[31m7.9 MB/s\u001b[0m eta \u001b[36m0:00:00\u001b[0m\n",
      "\u001b[?25hRequirement already satisfied: tqdm>=4.62.0 in /Users/raphaelamzallag/.pyenv/versions/3.10.6/envs/final_pfds/lib/python3.10/site-packages (from pycaret) (4.66.1)\n",
      "Collecting xxhash (from pycaret)\n",
      "  Downloading xxhash-3.4.1-cp310-cp310-macosx_11_0_arm64.whl.metadata (12 kB)\n",
      "Collecting yellowbrick>=1.4 (from pycaret)\n",
      "  Downloading yellowbrick-1.5-py3-none-any.whl (282 kB)\n",
      "\u001b[2K     \u001b[90m━━━━━━━━━━━━━━━━━━━━━━━━━━━━━━━━━━━━━━\u001b[0m \u001b[32m282.6/282.6 kB\u001b[0m \u001b[31m20.8 MB/s\u001b[0m eta \u001b[36m0:00:00\u001b[0m\n",
      "\u001b[?25hCollecting wurlitzer (from pycaret)\n",
      "  Downloading wurlitzer-3.0.3-py3-none-any.whl (7.3 kB)\n",
      "Collecting patsy>=0.5.1 (from category-encoders>=2.4.0->pycaret)\n",
      "  Downloading patsy-0.5.4-py2.py3-none-any.whl.metadata (3.4 kB)\n",
      "Requirement already satisfied: packaging in /Users/raphaelamzallag/.pyenv/versions/3.10.6/envs/final_pfds/lib/python3.10/site-packages (from deprecation>=2.1.0->pycaret) (23.2)\n",
      "Requirement already satisfied: threadpoolctl>=2.0.0 in /Users/raphaelamzallag/.pyenv/versions/3.10.6/envs/final_pfds/lib/python3.10/site-packages (from imbalanced-learn>=0.8.1->pycaret) (3.2.0)\n",
      "Collecting zipp>=0.5 (from importlib-metadata>=4.12.0->pycaret)\n",
      "  Downloading zipp-3.17.0-py3-none-any.whl.metadata (3.7 kB)\n",
      "Requirement already satisfied: decorator in /Users/raphaelamzallag/.pyenv/versions/3.10.6/envs/final_pfds/lib/python3.10/site-packages (from ipython>=5.5.0->pycaret) (5.1.1)\n",
      "Requirement already satisfied: jedi>=0.16 in /Users/raphaelamzallag/.pyenv/versions/3.10.6/envs/final_pfds/lib/python3.10/site-packages (from ipython>=5.5.0->pycaret) (0.19.1)\n",
      "Requirement already satisfied: matplotlib-inline in /Users/raphaelamzallag/.pyenv/versions/3.10.6/envs/final_pfds/lib/python3.10/site-packages (from ipython>=5.5.0->pycaret) (0.1.6)\n",
      "Requirement already satisfied: prompt-toolkit<3.1.0,>=3.0.41 in /Users/raphaelamzallag/.pyenv/versions/3.10.6/envs/final_pfds/lib/python3.10/site-packages (from ipython>=5.5.0->pycaret) (3.0.41)\n",
      "Requirement already satisfied: pygments>=2.4.0 in /Users/raphaelamzallag/.pyenv/versions/3.10.6/envs/final_pfds/lib/python3.10/site-packages (from ipython>=5.5.0->pycaret) (2.17.2)\n",
      "Requirement already satisfied: stack-data in /Users/raphaelamzallag/.pyenv/versions/3.10.6/envs/final_pfds/lib/python3.10/site-packages (from ipython>=5.5.0->pycaret) (0.6.3)\n",
      "Requirement already satisfied: traitlets>=5 in /Users/raphaelamzallag/.pyenv/versions/3.10.6/envs/final_pfds/lib/python3.10/site-packages (from ipython>=5.5.0->pycaret) (5.14.0)\n",
      "Requirement already satisfied: exceptiongroup in /Users/raphaelamzallag/.pyenv/versions/3.10.6/envs/final_pfds/lib/python3.10/site-packages (from ipython>=5.5.0->pycaret) (1.2.0)\n",
      "Requirement already satisfied: pexpect>4.3 in /Users/raphaelamzallag/.pyenv/versions/3.10.6/envs/final_pfds/lib/python3.10/site-packages (from ipython>=5.5.0->pycaret) (4.9.0)\n",
      "Requirement already satisfied: comm>=0.1.3 in /Users/raphaelamzallag/.pyenv/versions/3.10.6/envs/final_pfds/lib/python3.10/site-packages (from ipywidgets>=7.6.5->pycaret) (0.2.0)\n",
      "Requirement already satisfied: widgetsnbextension~=4.0.9 in /Users/raphaelamzallag/.pyenv/versions/3.10.6/envs/final_pfds/lib/python3.10/site-packages (from ipywidgets>=7.6.5->pycaret) (4.0.9)\n",
      "Requirement already satisfied: jupyterlab-widgets~=3.0.9 in /Users/raphaelamzallag/.pyenv/versions/3.10.6/envs/final_pfds/lib/python3.10/site-packages (from ipywidgets>=7.6.5->pycaret) (3.0.9)\n",
      "Requirement already satisfied: contourpy>=1.0.1 in /Users/raphaelamzallag/.pyenv/versions/3.10.6/envs/final_pfds/lib/python3.10/site-packages (from matplotlib<=3.6,>=3.3.0->pycaret) (1.2.0)\n",
      "Requirement already satisfied: cycler>=0.10 in /Users/raphaelamzallag/.pyenv/versions/3.10.6/envs/final_pfds/lib/python3.10/site-packages (from matplotlib<=3.6,>=3.3.0->pycaret) (0.12.1)\n",
      "Requirement already satisfied: fonttools>=4.22.0 in /Users/raphaelamzallag/.pyenv/versions/3.10.6/envs/final_pfds/lib/python3.10/site-packages (from matplotlib<=3.6,>=3.3.0->pycaret) (4.46.0)\n",
      "Requirement already satisfied: kiwisolver>=1.0.1 in /Users/raphaelamzallag/.pyenv/versions/3.10.6/envs/final_pfds/lib/python3.10/site-packages (from matplotlib<=3.6,>=3.3.0->pycaret) (1.4.5)\n",
      "Requirement already satisfied: pillow>=6.2.0 in /Users/raphaelamzallag/.pyenv/versions/3.10.6/envs/final_pfds/lib/python3.10/site-packages (from matplotlib<=3.6,>=3.3.0->pycaret) (10.1.0)\n",
      "Requirement already satisfied: pyparsing>=2.2.1 in /Users/raphaelamzallag/.pyenv/versions/3.10.6/envs/final_pfds/lib/python3.10/site-packages (from matplotlib<=3.6,>=3.3.0->pycaret) (3.1.1)\n",
      "Requirement already satisfied: python-dateutil>=2.7 in /Users/raphaelamzallag/.pyenv/versions/3.10.6/envs/final_pfds/lib/python3.10/site-packages (from matplotlib<=3.6,>=3.3.0->pycaret) (2.8.2)\n",
      "Requirement already satisfied: fastjsonschema in /Users/raphaelamzallag/.pyenv/versions/3.10.6/envs/final_pfds/lib/python3.10/site-packages (from nbformat>=4.2.0->pycaret) (2.19.0)\n",
      "Requirement already satisfied: jsonschema>=2.6 in /Users/raphaelamzallag/.pyenv/versions/3.10.6/envs/final_pfds/lib/python3.10/site-packages (from nbformat>=4.2.0->pycaret) (4.20.0)\n",
      "Requirement already satisfied: jupyter-core in /Users/raphaelamzallag/.pyenv/versions/3.10.6/envs/final_pfds/lib/python3.10/site-packages (from nbformat>=4.2.0->pycaret) (5.5.0)\n",
      "Collecting llvmlite<0.42,>=0.41.0dev0 (from numba>=0.55.0->pycaret)\n",
      "  Using cached llvmlite-0.41.1-cp310-cp310-macosx_11_0_arm64.whl.metadata (4.8 kB)\n",
      "Requirement already satisfied: pytz>=2020.1 in /Users/raphaelamzallag/.pyenv/versions/3.10.6/envs/final_pfds/lib/python3.10/site-packages (from pandas<2.0.0,>=1.3.0->pycaret) (2023.3.post1)\n",
      "Requirement already satisfied: tenacity>=6.2.0 in /Users/raphaelamzallag/.pyenv/versions/3.10.6/envs/final_pfds/lib/python3.10/site-packages (from plotly>=5.0.0->pycaret) (8.2.3)\n",
      "Collecting dash<3.0.0,>=2.11.0 (from plotly-resampler>=0.8.3.1->pycaret)\n",
      "  Downloading dash-2.14.2-py3-none-any.whl.metadata (11 kB)\n",
      "Collecting orjson<4.0.0,>=3.8.0 (from plotly-resampler>=0.8.3.1->pycaret)\n",
      "  Downloading orjson-3.9.10-cp310-cp310-macosx_10_15_x86_64.macosx_11_0_arm64.macosx_10_15_universal2.whl.metadata (49 kB)\n",
      "\u001b[2K     \u001b[90m━━━━━━━━━━━━━━━━━━━━━━━━━━━━━━━━━━━━━━━━\u001b[0m \u001b[32m49.3/49.3 kB\u001b[0m \u001b[31m9.3 MB/s\u001b[0m eta \u001b[36m0:00:00\u001b[0m\n",
      "\u001b[?25hCollecting trace-updater>=0.0.8 (from plotly-resampler>=0.8.3.1->pycaret)\n",
      "  Downloading trace_updater-0.0.9.1-py3-none-any.whl (185 kB)\n",
      "\u001b[2K     \u001b[90m━━━━━━━━━━━━━━━━━━━━━━━━━━━━━━━━━━━━━━\u001b[0m \u001b[32m185.2/185.2 kB\u001b[0m \u001b[31m16.6 MB/s\u001b[0m eta \u001b[36m0:00:00\u001b[0m\n",
      "\u001b[?25hCollecting tsdownsample==0.1.2 (from plotly-resampler>=0.8.3.1->pycaret)\n",
      "  Downloading tsdownsample-0.1.2-cp310-cp310-macosx_11_0_arm64.whl (1.2 MB)\n",
      "\u001b[2K     \u001b[90m━━━━━━━━━━━━━━━━━━━━━━━━━━━━━━━━━━━━━━━━\u001b[0m \u001b[32m1.2/1.2 MB\u001b[0m \u001b[31m23.8 MB/s\u001b[0m eta \u001b[36m0:00:00\u001b[0ma \u001b[36m0:00:01\u001b[0m\n",
      "\u001b[?25hRequirement already satisfied: Cython!=0.29.18,!=0.29.31,>=0.29 in /Users/raphaelamzallag/.pyenv/versions/3.10.6/envs/final_pfds/lib/python3.10/site-packages (from pmdarima!=1.8.1,<3.0.0,>=1.8.0->pycaret) (3.0.6)\n",
      "Requirement already satisfied: urllib3 in /Users/raphaelamzallag/.pyenv/versions/3.10.6/envs/final_pfds/lib/python3.10/site-packages (from pmdarima!=1.8.1,<3.0.0,>=1.8.0->pycaret) (2.1.0)\n",
      "Requirement already satisfied: setuptools!=50.0.0,>=38.6.0 in /Users/raphaelamzallag/.pyenv/versions/3.10.6/envs/final_pfds/lib/python3.10/site-packages (from pmdarima!=1.8.1,<3.0.0,>=1.8.0->pycaret) (63.2.0)\n",
      "Requirement already satisfied: six in /Users/raphaelamzallag/.pyenv/versions/3.10.6/envs/final_pfds/lib/python3.10/site-packages (from pyod>=1.0.8->pycaret) (1.16.0)\n",
      "Requirement already satisfied: charset-normalizer<4,>=2 in /Users/raphaelamzallag/.pyenv/versions/3.10.6/envs/final_pfds/lib/python3.10/site-packages (from requests>=2.27.1->pycaret) (3.3.2)\n",
      "Requirement already satisfied: idna<4,>=2.5 in /Users/raphaelamzallag/.pyenv/versions/3.10.6/envs/final_pfds/lib/python3.10/site-packages (from requests>=2.27.1->pycaret) (3.6)\n",
      "Requirement already satisfied: certifi>=2017.4.17 in /Users/raphaelamzallag/.pyenv/versions/3.10.6/envs/final_pfds/lib/python3.10/site-packages (from requests>=2.27.1->pycaret) (2023.11.17)\n",
      "Collecting deprecated>=1.2.13 (from sktime!=0.17.1,!=0.17.2,!=0.18.0,<0.22.0,>=0.16.1->pycaret)\n",
      "  Downloading Deprecated-1.2.14-py2.py3-none-any.whl.metadata (5.4 kB)\n",
      "Collecting numpy<1.27,>=1.21 (from pycaret)\n",
      "  Downloading numpy-1.25.2-cp310-cp310-macosx_11_0_arm64.whl.metadata (5.6 kB)\n",
      "Collecting scikit-base<0.6.0 (from sktime!=0.17.1,!=0.17.2,!=0.18.0,<0.22.0,>=0.16.1->pycaret)\n",
      "  Downloading scikit_base-0.5.2-py3-none-any.whl.metadata (8.6 kB)\n",
      "Collecting Flask<3.1,>=1.0.4 (from dash<3.0.0,>=2.11.0->plotly-resampler>=0.8.3.1->pycaret)\n",
      "  Downloading flask-3.0.0-py3-none-any.whl.metadata (3.6 kB)\n",
      "Requirement already satisfied: Werkzeug<3.1 in /Users/raphaelamzallag/.pyenv/versions/3.10.6/envs/final_pfds/lib/python3.10/site-packages (from dash<3.0.0,>=2.11.0->plotly-resampler>=0.8.3.1->pycaret) (3.0.1)\n",
      "Collecting dash-html-components==2.0.0 (from dash<3.0.0,>=2.11.0->plotly-resampler>=0.8.3.1->pycaret)\n",
      "  Downloading dash_html_components-2.0.0-py3-none-any.whl (4.1 kB)\n",
      "Collecting dash-core-components==2.0.0 (from dash<3.0.0,>=2.11.0->plotly-resampler>=0.8.3.1->pycaret)\n",
      "  Downloading dash_core_components-2.0.0-py3-none-any.whl (3.8 kB)\n",
      "Collecting dash-table==5.0.0 (from dash<3.0.0,>=2.11.0->plotly-resampler>=0.8.3.1->pycaret)\n",
      "  Downloading dash_table-5.0.0-py3-none-any.whl (3.9 kB)\n",
      "Requirement already satisfied: typing-extensions>=4.1.1 in /Users/raphaelamzallag/.pyenv/versions/3.10.6/envs/final_pfds/lib/python3.10/site-packages (from dash<3.0.0,>=2.11.0->plotly-resampler>=0.8.3.1->pycaret) (4.8.0)\n",
      "Collecting retrying (from dash<3.0.0,>=2.11.0->plotly-resampler>=0.8.3.1->pycaret)\n",
      "  Downloading retrying-1.3.4-py3-none-any.whl (11 kB)\n",
      "Collecting ansi2html (from dash<3.0.0,>=2.11.0->plotly-resampler>=0.8.3.1->pycaret)\n",
      "  Downloading ansi2html-1.8.0-py3-none-any.whl (16 kB)\n",
      "Requirement already satisfied: nest-asyncio in /Users/raphaelamzallag/.pyenv/versions/3.10.6/envs/final_pfds/lib/python3.10/site-packages (from dash<3.0.0,>=2.11.0->plotly-resampler>=0.8.3.1->pycaret) (1.5.8)\n",
      "Requirement already satisfied: wrapt<2,>=1.10 in /Users/raphaelamzallag/.pyenv/versions/3.10.6/envs/final_pfds/lib/python3.10/site-packages (from deprecated>=1.2.13->sktime!=0.17.1,!=0.17.2,!=0.18.0,<0.22.0,>=0.16.1->pycaret) (1.14.1)\n",
      "Requirement already satisfied: parso<0.9.0,>=0.8.3 in /Users/raphaelamzallag/.pyenv/versions/3.10.6/envs/final_pfds/lib/python3.10/site-packages (from jedi>=0.16->ipython>=5.5.0->pycaret) (0.8.3)\n",
      "Requirement already satisfied: attrs>=22.2.0 in /Users/raphaelamzallag/.pyenv/versions/3.10.6/envs/final_pfds/lib/python3.10/site-packages (from jsonschema>=2.6->nbformat>=4.2.0->pycaret) (23.1.0)\n",
      "Requirement already satisfied: jsonschema-specifications>=2023.03.6 in /Users/raphaelamzallag/.pyenv/versions/3.10.6/envs/final_pfds/lib/python3.10/site-packages (from jsonschema>=2.6->nbformat>=4.2.0->pycaret) (2023.11.2)\n",
      "Requirement already satisfied: referencing>=0.28.4 in /Users/raphaelamzallag/.pyenv/versions/3.10.6/envs/final_pfds/lib/python3.10/site-packages (from jsonschema>=2.6->nbformat>=4.2.0->pycaret) (0.31.1)\n",
      "Requirement already satisfied: rpds-py>=0.7.1 in /Users/raphaelamzallag/.pyenv/versions/3.10.6/envs/final_pfds/lib/python3.10/site-packages (from jsonschema>=2.6->nbformat>=4.2.0->pycaret) (0.13.2)\n",
      "Requirement already satisfied: ptyprocess>=0.5 in /Users/raphaelamzallag/.pyenv/versions/3.10.6/envs/final_pfds/lib/python3.10/site-packages (from pexpect>4.3->ipython>=5.5.0->pycaret) (0.7.0)\n",
      "Requirement already satisfied: wcwidth in /Users/raphaelamzallag/.pyenv/versions/3.10.6/envs/final_pfds/lib/python3.10/site-packages (from prompt-toolkit<3.1.0,>=3.0.41->ipython>=5.5.0->pycaret) (0.2.12)\n",
      "Requirement already satisfied: platformdirs>=2.5 in /Users/raphaelamzallag/.pyenv/versions/3.10.6/envs/final_pfds/lib/python3.10/site-packages (from jupyter-core->nbformat>=4.2.0->pycaret) (4.1.0)\n",
      "Requirement already satisfied: executing>=1.2.0 in /Users/raphaelamzallag/.pyenv/versions/3.10.6/envs/final_pfds/lib/python3.10/site-packages (from stack-data->ipython>=5.5.0->pycaret) (2.0.1)\n",
      "Requirement already satisfied: asttokens>=2.1.0 in /Users/raphaelamzallag/.pyenv/versions/3.10.6/envs/final_pfds/lib/python3.10/site-packages (from stack-data->ipython>=5.5.0->pycaret) (2.4.1)\n",
      "Requirement already satisfied: pure-eval in /Users/raphaelamzallag/.pyenv/versions/3.10.6/envs/final_pfds/lib/python3.10/site-packages (from stack-data->ipython>=5.5.0->pycaret) (0.2.2)\n",
      "Collecting itsdangerous>=2.1.2 (from Flask<3.1,>=1.0.4->dash<3.0.0,>=2.11.0->plotly-resampler>=0.8.3.1->pycaret)\n",
      "  Using cached itsdangerous-2.1.2-py3-none-any.whl (15 kB)\n",
      "Requirement already satisfied: click>=8.1.3 in /Users/raphaelamzallag/.pyenv/versions/3.10.6/envs/final_pfds/lib/python3.10/site-packages (from Flask<3.1,>=1.0.4->dash<3.0.0,>=2.11.0->plotly-resampler>=0.8.3.1->pycaret) (8.1.7)\n",
      "Collecting blinker>=1.6.2 (from Flask<3.1,>=1.0.4->dash<3.0.0,>=2.11.0->plotly-resampler>=0.8.3.1->pycaret)\n",
      "  Downloading blinker-1.7.0-py3-none-any.whl.metadata (1.9 kB)\n",
      "Downloading pycaret-3.2.0-py3-none-any.whl (484 kB)\n",
      "\u001b[2K   \u001b[90m━━━━━━━━━━━━━━━━━━━━━━━━━━━━━━━━━━━━━━━━\u001b[0m \u001b[32m484.7/484.7 kB\u001b[0m \u001b[31m19.7 MB/s\u001b[0m eta \u001b[36m0:00:00\u001b[0m\n",
      "\u001b[?25hDownloading category_encoders-2.6.3-py2.py3-none-any.whl (81 kB)\n",
      "\u001b[2K   \u001b[90m━━━━━━━━━━━━━━━━━━━━━━━━━━━━━━━━━━━━━━━━\u001b[0m \u001b[32m81.9/81.9 kB\u001b[0m \u001b[31m10.1 MB/s\u001b[0m eta \u001b[36m0:00:00\u001b[0m\n",
      "\u001b[?25hDownloading imbalanced_learn-0.11.0-py3-none-any.whl (235 kB)\n",
      "\u001b[2K   \u001b[90m━━━━━━━━━━━━━━━━━━━━━━━━━━━━━━━━━━━━━━━━\u001b[0m \u001b[32m235.6/235.6 kB\u001b[0m \u001b[31m14.8 MB/s\u001b[0m eta \u001b[36m0:00:00\u001b[0m\n",
      "\u001b[?25hDownloading importlib_metadata-7.0.0-py3-none-any.whl (23 kB)\n",
      "Using cached numba-0.58.1-cp310-cp310-macosx_11_0_arm64.whl (2.6 MB)\n",
      "Downloading plotly_resampler-0.9.1-py3-none-any.whl (73 kB)\n",
      "\u001b[2K   \u001b[90m━━━━━━━━━━━━━━━━━━━━━━━━━━━━━━━━━━━━━━━━\u001b[0m \u001b[32m73.4/73.4 kB\u001b[0m \u001b[31m8.7 MB/s\u001b[0m eta \u001b[36m0:00:00\u001b[0m\n",
      "\u001b[?25hDownloading pmdarima-2.0.4-cp310-cp310-macosx_11_0_arm64.whl (628 kB)\n",
      "\u001b[2K   \u001b[90m━━━━━━━━━━━━━━━━━━━━━━━━━━━━━━━━━━━━━━━━\u001b[0m \u001b[32m628.6/628.6 kB\u001b[0m \u001b[31m19.7 MB/s\u001b[0m eta \u001b[36m0:00:00\u001b[0m\n",
      "\u001b[?25hDownloading sktime-0.21.1-py3-none-any.whl (17.1 MB)\n",
      "\u001b[2K   \u001b[90m━━━━━━━━━━━━━━━━━━━━━━━━━━━━━━━━━━━━━━━━\u001b[0m \u001b[32m17.1/17.1 MB\u001b[0m \u001b[31m23.1 MB/s\u001b[0m eta \u001b[36m0:00:00\u001b[0m00:01\u001b[0m00:01\u001b[0m\n",
      "\u001b[?25hDownloading numpy-1.25.2-cp310-cp310-macosx_11_0_arm64.whl (14.0 MB)\n",
      "\u001b[2K   \u001b[90m━━━━━━━━━━━━━━━━━━━━━━━━━━━━━━━━━━━━━━━━\u001b[0m \u001b[32m14.0/14.0 MB\u001b[0m \u001b[31m23.8 MB/s\u001b[0m eta \u001b[36m0:00:00\u001b[0m00:01\u001b[0m00:01\u001b[0m\n",
      "\u001b[?25hDownloading cloudpickle-3.0.0-py3-none-any.whl (20 kB)\n",
      "Downloading xxhash-3.4.1-cp310-cp310-macosx_11_0_arm64.whl (30 kB)\n",
      "Downloading dash-2.14.2-py3-none-any.whl (10.2 MB)\n",
      "\u001b[2K   \u001b[90m━━━━━━━━━━━━━━━━━━━━━━━━━━━━━━━━━━━━━━━━\u001b[0m \u001b[32m10.2/10.2 MB\u001b[0m \u001b[31m22.3 MB/s\u001b[0m eta \u001b[36m0:00:00\u001b[0m \u001b[36m0:00:01\u001b[0m\n",
      "\u001b[?25hDownloading Deprecated-1.2.14-py2.py3-none-any.whl (9.6 kB)\n",
      "Using cached llvmlite-0.41.1-cp310-cp310-macosx_11_0_arm64.whl (28.8 MB)\n",
      "Downloading orjson-3.9.10-cp310-cp310-macosx_10_15_x86_64.macosx_11_0_arm64.macosx_10_15_universal2.whl (242 kB)\n",
      "\u001b[2K   \u001b[90m━━━━━━━━━━━━━━━━━━━━━━━━━━━━━━━━━━━━━━━━\u001b[0m \u001b[32m242.0/242.0 kB\u001b[0m \u001b[31m16.4 MB/s\u001b[0m eta \u001b[36m0:00:00\u001b[0m\n",
      "\u001b[?25hDownloading patsy-0.5.4-py2.py3-none-any.whl (233 kB)\n",
      "\u001b[2K   \u001b[90m━━━━━━━━━━━━━━━━━━━━━━━━━━━━━━━━━━━━━━━━\u001b[0m \u001b[32m233.9/233.9 kB\u001b[0m \u001b[31m15.6 MB/s\u001b[0m eta \u001b[36m0:00:00\u001b[0m\n",
      "\u001b[?25hDownloading scikit_base-0.5.2-py3-none-any.whl (118 kB)\n",
      "\u001b[2K   \u001b[90m━━━━━━━━━━━━━━━━━━━━━━━━━━━━━━━━━━━━━━━━\u001b[0m \u001b[32m119.0/119.0 kB\u001b[0m \u001b[31m8.8 MB/s\u001b[0m eta \u001b[36m0:00:00\u001b[0m\n",
      "\u001b[?25hDownloading zipp-3.17.0-py3-none-any.whl (7.4 kB)\n",
      "Downloading flask-3.0.0-py3-none-any.whl (99 kB)\n",
      "\u001b[2K   \u001b[90m━━━━━━━━━━━━━━━━━━━━━━━━━━━━━━━━━━━━━━━━\u001b[0m \u001b[32m99.7/99.7 kB\u001b[0m \u001b[31m18.0 MB/s\u001b[0m eta \u001b[36m0:00:00\u001b[0m\n",
      "\u001b[?25hDownloading blinker-1.7.0-py3-none-any.whl (13 kB)\n",
      "Building wheels for collected packages: lightgbm, pyod\n",
      "  Building wheel for lightgbm (pyproject.toml) ... \u001b[?25ldone\n",
      "\u001b[?25h  Created wheel for lightgbm: filename=lightgbm-4.1.0-py3-none-macosx_14_0_arm64.whl size=1377018 sha256=40eaeb871f640562d48b63065c3599908f60cf4b20c58b32e8c7c419df12ee78\n",
      "  Stored in directory: /Users/raphaelamzallag/Library/Caches/pip/wheels/08/6f/90/45e64d89d9a147dc5a5ba6920fa24318210be01198c108d519\n",
      "  Building wheel for pyod (setup.py) ... \u001b[?25ldone\n",
      "\u001b[?25h  Created wheel for pyod: filename=pyod-1.1.2-py3-none-any.whl size=190292 sha256=f9edccf47204eb1e99d292ca8aaa0e79681a063464ab4cd2bce0326ce608d2a7\n",
      "  Stored in directory: /Users/raphaelamzallag/Library/Caches/pip/wheels/81/1b/61/aa85b78c3c0c8871f4231e3f4a03bb23cecb7db829498380ee\n",
      "Successfully built lightgbm pyod\n",
      "Installing collected packages: trace-updater, kaleido, dash-table, dash-html-components, dash-core-components, zipp, xxhash, wurlitzer, scikit-base, schemdraw, retrying, orjson, numpy, llvmlite, itsdangerous, deprecation, deprecated, cloudpickle, blinker, ansi2html, tsdownsample, scipy, patsy, numba, importlib-metadata, Flask, statsmodels, scikit-learn, matplotlib, lightgbm, dash, yellowbrick, sktime, scikit-plot, pyod, pmdarima, plotly-resampler, imbalanced-learn, category-encoders, tbats, pycaret\n",
      "  Attempting uninstall: numpy\n",
      "    Found existing installation: numpy 1.26.2\n",
      "    Uninstalling numpy-1.26.2:\n",
      "      Successfully uninstalled numpy-1.26.2\n",
      "  Attempting uninstall: scipy\n",
      "    Found existing installation: scipy 1.11.4\n",
      "    Uninstalling scipy-1.11.4:\n",
      "      Successfully uninstalled scipy-1.11.4\n",
      "  Attempting uninstall: scikit-learn\n",
      "    Found existing installation: scikit-learn 1.3.2\n",
      "    Uninstalling scikit-learn-1.3.2:\n",
      "      Successfully uninstalled scikit-learn-1.3.2\n",
      "  Attempting uninstall: matplotlib\n",
      "    Found existing installation: matplotlib 3.8.2\n",
      "    Uninstalling matplotlib-3.8.2:\n",
      "      Successfully uninstalled matplotlib-3.8.2\n",
      "Successfully installed Flask-3.0.0 ansi2html-1.8.0 blinker-1.7.0 category-encoders-2.6.3 cloudpickle-3.0.0 dash-2.14.2 dash-core-components-2.0.0 dash-html-components-2.0.0 dash-table-5.0.0 deprecated-1.2.14 deprecation-2.1.0 imbalanced-learn-0.11.0 importlib-metadata-7.0.0 itsdangerous-2.1.2 kaleido-0.2.1 lightgbm-4.1.0 llvmlite-0.41.1 matplotlib-3.6.0 numba-0.58.1 numpy-1.25.2 orjson-3.9.10 patsy-0.5.4 plotly-resampler-0.9.1 pmdarima-2.0.4 pycaret-3.2.0 pyod-1.1.2 retrying-1.3.4 schemdraw-0.15 scikit-base-0.5.2 scikit-learn-1.2.2 scikit-plot-0.3.7 scipy-1.10.1 sktime-0.21.1 statsmodels-0.14.0 tbats-1.1.3 trace-updater-0.0.9.1 tsdownsample-0.1.2 wurlitzer-3.0.3 xxhash-3.4.1 yellowbrick-1.5 zipp-3.17.0\n"
     ]
    }
   ],
   "source": [
    "!pip install pycaret"
   ]
  },
  {
   "cell_type": "code",
   "execution_count": 68,
   "id": "5bde58b5-4366-4a58-81e5-4e04f846fe93",
   "metadata": {},
   "outputs": [
    {
     "ename": "ValueError",
     "evalue": "sklearn.metrics._dist_metrics.DistanceMetric size changed, may indicate binary incompatibility. Expected 472 from C header, got 16 from PyObject",
     "output_type": "error",
     "traceback": [
      "\u001b[0;31m---------------------------------------------------------------------------\u001b[0m",
      "\u001b[0;31mValueError\u001b[0m                                Traceback (most recent call last)",
      "Cell \u001b[0;32mIn[68], line 1\u001b[0m\n\u001b[0;32m----> 1\u001b[0m \u001b[38;5;28;01mfrom\u001b[39;00m \u001b[38;5;21;01mpycaret\u001b[39;00m\u001b[38;5;21;01m.\u001b[39;00m\u001b[38;5;21;01mregression\u001b[39;00m \u001b[38;5;28;01mimport\u001b[39;00m \u001b[38;5;241m*\u001b[39m\n\u001b[1;32m      4\u001b[0m df \u001b[38;5;241m=\u001b[39m X\u001b[38;5;241m.\u001b[39mcopy()\n\u001b[1;32m      5\u001b[0m df[\u001b[38;5;124m'\u001b[39m\u001b[38;5;124mtarget\u001b[39m\u001b[38;5;124m'\u001b[39m] \u001b[38;5;241m=\u001b[39m y\n",
      "File \u001b[0;32m~/.pyenv/versions/3.10.6/envs/final_pfds/lib/python3.10/site-packages/pycaret/regression/__init__.py:1\u001b[0m\n\u001b[0;32m----> 1\u001b[0m \u001b[38;5;28;01mfrom\u001b[39;00m \u001b[38;5;21;01mpycaret\u001b[39;00m\u001b[38;5;21;01m.\u001b[39;00m\u001b[38;5;21;01mregression\u001b[39;00m\u001b[38;5;21;01m.\u001b[39;00m\u001b[38;5;21;01mfunctional\u001b[39;00m \u001b[38;5;28;01mimport\u001b[39;00m (\n\u001b[1;32m      2\u001b[0m     add_metric,\n\u001b[1;32m      3\u001b[0m     automl,\n\u001b[1;32m      4\u001b[0m     blend_models,\n\u001b[1;32m      5\u001b[0m     check_drift,\n\u001b[1;32m      6\u001b[0m     check_fairness,\n\u001b[1;32m      7\u001b[0m     compare_models,\n\u001b[1;32m      8\u001b[0m     convert_model,\n\u001b[1;32m      9\u001b[0m     create_api,\n\u001b[1;32m     10\u001b[0m     create_app,\n\u001b[1;32m     11\u001b[0m     create_docker,\n\u001b[1;32m     12\u001b[0m     create_model,\n\u001b[1;32m     13\u001b[0m     dashboard,\n\u001b[1;32m     14\u001b[0m     deploy_model,\n\u001b[1;32m     15\u001b[0m     ensemble_model,\n\u001b[1;32m     16\u001b[0m     evaluate_model,\n\u001b[1;32m     17\u001b[0m     finalize_model,\n\u001b[1;32m     18\u001b[0m     get_allowed_engines,\n\u001b[1;32m     19\u001b[0m     get_config,\n\u001b[1;32m     20\u001b[0m     get_current_experiment,\n\u001b[1;32m     21\u001b[0m     get_engine,\n\u001b[1;32m     22\u001b[0m     get_leaderboard,\n\u001b[1;32m     23\u001b[0m     get_logs,\n\u001b[1;32m     24\u001b[0m     get_metrics,\n\u001b[1;32m     25\u001b[0m     interpret_model,\n\u001b[1;32m     26\u001b[0m     load_experiment,\n\u001b[1;32m     27\u001b[0m     load_model,\n\u001b[1;32m     28\u001b[0m     models,\n\u001b[1;32m     29\u001b[0m     plot_model,\n\u001b[1;32m     30\u001b[0m     predict_model,\n\u001b[1;32m     31\u001b[0m     pull,\n\u001b[1;32m     32\u001b[0m     remove_metric,\n\u001b[1;32m     33\u001b[0m     save_experiment,\n\u001b[1;32m     34\u001b[0m     save_model,\n\u001b[1;32m     35\u001b[0m     set_config,\n\u001b[1;32m     36\u001b[0m     set_current_experiment,\n\u001b[1;32m     37\u001b[0m     setup,\n\u001b[1;32m     38\u001b[0m     stack_models,\n\u001b[1;32m     39\u001b[0m     tune_model,\n\u001b[1;32m     40\u001b[0m )\n\u001b[1;32m     41\u001b[0m \u001b[38;5;28;01mfrom\u001b[39;00m \u001b[38;5;21;01mpycaret\u001b[39;00m\u001b[38;5;21;01m.\u001b[39;00m\u001b[38;5;21;01mregression\u001b[39;00m\u001b[38;5;21;01m.\u001b[39;00m\u001b[38;5;21;01moop\u001b[39;00m \u001b[38;5;28;01mimport\u001b[39;00m RegressionExperiment\n\u001b[1;32m     43\u001b[0m __all__ \u001b[38;5;241m=\u001b[39m [\n\u001b[1;32m     44\u001b[0m     \u001b[38;5;124m\"\u001b[39m\u001b[38;5;124mRegressionExperiment\u001b[39m\u001b[38;5;124m\"\u001b[39m,\n\u001b[1;32m     45\u001b[0m     \u001b[38;5;124m\"\u001b[39m\u001b[38;5;124msetup\u001b[39m\u001b[38;5;124m\"\u001b[39m,\n\u001b[0;32m   (...)\u001b[0m\n\u001b[1;32m     82\u001b[0m     \u001b[38;5;124m\"\u001b[39m\u001b[38;5;124mcheck_drift\u001b[39m\u001b[38;5;124m\"\u001b[39m,\n\u001b[1;32m     83\u001b[0m ]\n",
      "File \u001b[0;32m~/.pyenv/versions/3.10.6/envs/final_pfds/lib/python3.10/site-packages/pycaret/regression/functional.py:9\u001b[0m\n\u001b[1;32m      6\u001b[0m \u001b[38;5;28;01mfrom\u001b[39;00m \u001b[38;5;21;01mjoblib\u001b[39;00m\u001b[38;5;21;01m.\u001b[39;00m\u001b[38;5;21;01mmemory\u001b[39;00m \u001b[38;5;28;01mimport\u001b[39;00m Memory\n\u001b[1;32m      8\u001b[0m \u001b[38;5;28;01mfrom\u001b[39;00m \u001b[38;5;21;01mpycaret\u001b[39;00m\u001b[38;5;21;01m.\u001b[39;00m\u001b[38;5;21;01minternal\u001b[39;00m\u001b[38;5;21;01m.\u001b[39;00m\u001b[38;5;21;01mparallel\u001b[39;00m\u001b[38;5;21;01m.\u001b[39;00m\u001b[38;5;21;01mparallel_backend\u001b[39;00m \u001b[38;5;28;01mimport\u001b[39;00m ParallelBackend\n\u001b[0;32m----> 9\u001b[0m \u001b[38;5;28;01mfrom\u001b[39;00m \u001b[38;5;21;01mpycaret\u001b[39;00m\u001b[38;5;21;01m.\u001b[39;00m\u001b[38;5;21;01mloggers\u001b[39;00m\u001b[38;5;21;01m.\u001b[39;00m\u001b[38;5;21;01mbase_logger\u001b[39;00m \u001b[38;5;28;01mimport\u001b[39;00m BaseLogger\n\u001b[1;32m     10\u001b[0m \u001b[38;5;28;01mfrom\u001b[39;00m \u001b[38;5;21;01mpycaret\u001b[39;00m\u001b[38;5;21;01m.\u001b[39;00m\u001b[38;5;21;01mregression\u001b[39;00m\u001b[38;5;21;01m.\u001b[39;00m\u001b[38;5;21;01moop\u001b[39;00m \u001b[38;5;28;01mimport\u001b[39;00m RegressionExperiment\n\u001b[1;32m     11\u001b[0m \u001b[38;5;28;01mfrom\u001b[39;00m \u001b[38;5;21;01mpycaret\u001b[39;00m\u001b[38;5;21;01m.\u001b[39;00m\u001b[38;5;21;01mutils\u001b[39;00m\u001b[38;5;21;01m.\u001b[39;00m\u001b[38;5;21;01mconstants\u001b[39;00m \u001b[38;5;28;01mimport\u001b[39;00m DATAFRAME_LIKE, SEQUENCE_LIKE, TARGET_LIKE\n",
      "File \u001b[0;32m~/.pyenv/versions/3.10.6/envs/final_pfds/lib/python3.10/site-packages/pycaret/loggers/__init__.py:4\u001b[0m\n\u001b[1;32m      2\u001b[0m \u001b[38;5;28;01mfrom\u001b[39;00m \u001b[38;5;21;01m.\u001b[39;00m\u001b[38;5;21;01mcomet_logger\u001b[39;00m \u001b[38;5;28;01mimport\u001b[39;00m CometLogger\n\u001b[1;32m      3\u001b[0m \u001b[38;5;28;01mfrom\u001b[39;00m \u001b[38;5;21;01m.\u001b[39;00m\u001b[38;5;21;01mdagshub_logger\u001b[39;00m \u001b[38;5;28;01mimport\u001b[39;00m DagshubLogger\n\u001b[0;32m----> 4\u001b[0m \u001b[38;5;28;01mfrom\u001b[39;00m \u001b[38;5;21;01m.\u001b[39;00m\u001b[38;5;21;01mdashboard_logger\u001b[39;00m \u001b[38;5;28;01mimport\u001b[39;00m DashboardLogger\n\u001b[1;32m      5\u001b[0m \u001b[38;5;28;01mfrom\u001b[39;00m \u001b[38;5;21;01m.\u001b[39;00m\u001b[38;5;21;01mmlflow_logger\u001b[39;00m \u001b[38;5;28;01mimport\u001b[39;00m MlflowLogger\n\u001b[1;32m      6\u001b[0m \u001b[38;5;28;01mfrom\u001b[39;00m \u001b[38;5;21;01m.\u001b[39;00m\u001b[38;5;21;01mwandb_logger\u001b[39;00m \u001b[38;5;28;01mimport\u001b[39;00m WandbLogger\n",
      "File \u001b[0;32m~/.pyenv/versions/3.10.6/envs/final_pfds/lib/python3.10/site-packages/pycaret/loggers/dashboard_logger.py:12\u001b[0m\n\u001b[1;32m      9\u001b[0m \u001b[38;5;28;01mimport\u001b[39;00m \u001b[38;5;21;01mpandas\u001b[39;00m \u001b[38;5;28;01mas\u001b[39;00m \u001b[38;5;21;01mpd\u001b[39;00m\n\u001b[1;32m     11\u001b[0m \u001b[38;5;28;01mfrom\u001b[39;00m \u001b[38;5;21;01mpycaret\u001b[39;00m\u001b[38;5;21;01m.\u001b[39;00m\u001b[38;5;21;01minternal\u001b[39;00m\u001b[38;5;21;01m.\u001b[39;00m\u001b[38;5;21;01mmeta_estimators\u001b[39;00m \u001b[38;5;28;01mimport\u001b[39;00m get_estimator_from_meta_estimator\n\u001b[0;32m---> 12\u001b[0m \u001b[38;5;28;01mfrom\u001b[39;00m \u001b[38;5;21;01mpycaret\u001b[39;00m\u001b[38;5;21;01m.\u001b[39;00m\u001b[38;5;21;01minternal\u001b[39;00m\u001b[38;5;21;01m.\u001b[39;00m\u001b[38;5;21;01mpipeline\u001b[39;00m \u001b[38;5;28;01mimport\u001b[39;00m get_pipeline_estimator_label\n\u001b[1;32m     14\u001b[0m \u001b[38;5;28;01mfrom\u001b[39;00m \u001b[38;5;21;01m.\u001b[39;00m\u001b[38;5;21;01mbase_logger\u001b[39;00m \u001b[38;5;28;01mimport\u001b[39;00m SETUP_TAG, BaseLogger\n\u001b[1;32m     16\u001b[0m \u001b[38;5;28;01mif\u001b[39;00m TYPE_CHECKING:\n",
      "File \u001b[0;32m~/.pyenv/versions/3.10.6/envs/final_pfds/lib/python3.10/site-packages/pycaret/internal/pipeline.py:16\u001b[0m\n\u001b[1;32m     13\u001b[0m \u001b[38;5;28;01mfrom\u001b[39;00m \u001b[38;5;21;01mcopy\u001b[39;00m \u001b[38;5;28;01mimport\u001b[39;00m deepcopy\n\u001b[1;32m     14\u001b[0m \u001b[38;5;28;01mfrom\u001b[39;00m \u001b[38;5;21;01minspect\u001b[39;00m \u001b[38;5;28;01mimport\u001b[39;00m signature\n\u001b[0;32m---> 16\u001b[0m \u001b[38;5;28;01mimport\u001b[39;00m \u001b[38;5;21;01mimblearn\u001b[39;00m\u001b[38;5;21;01m.\u001b[39;00m\u001b[38;5;21;01mpipeline\u001b[39;00m\n\u001b[1;32m     17\u001b[0m \u001b[38;5;28;01mimport\u001b[39;00m \u001b[38;5;21;01msklearn\u001b[39;00m\u001b[38;5;21;01m.\u001b[39;00m\u001b[38;5;21;01mpipeline\u001b[39;00m\n\u001b[1;32m     18\u001b[0m \u001b[38;5;28;01mfrom\u001b[39;00m \u001b[38;5;21;01msklearn\u001b[39;00m\u001b[38;5;21;01m.\u001b[39;00m\u001b[38;5;21;01mbase\u001b[39;00m \u001b[38;5;28;01mimport\u001b[39;00m clone\n",
      "File \u001b[0;32m~/.pyenv/versions/3.10.6/envs/final_pfds/lib/python3.10/site-packages/imblearn/__init__.py:52\u001b[0m\n\u001b[1;32m     48\u001b[0m     sys\u001b[38;5;241m.\u001b[39mstderr\u001b[38;5;241m.\u001b[39mwrite(\u001b[38;5;124m\"\u001b[39m\u001b[38;5;124mPartial import of imblearn during the build process.\u001b[39m\u001b[38;5;130;01m\\n\u001b[39;00m\u001b[38;5;124m\"\u001b[39m)\n\u001b[1;32m     49\u001b[0m     \u001b[38;5;66;03m# We are not importing the rest of scikit-learn during the build\u001b[39;00m\n\u001b[1;32m     50\u001b[0m     \u001b[38;5;66;03m# process, as it may not be compiled yet\u001b[39;00m\n\u001b[1;32m     51\u001b[0m \u001b[38;5;28;01melse\u001b[39;00m:\n\u001b[0;32m---> 52\u001b[0m     \u001b[38;5;28;01mfrom\u001b[39;00m \u001b[38;5;21;01m.\u001b[39;00m \u001b[38;5;28;01mimport\u001b[39;00m (\n\u001b[1;32m     53\u001b[0m         combine,\n\u001b[1;32m     54\u001b[0m         ensemble,\n\u001b[1;32m     55\u001b[0m         exceptions,\n\u001b[1;32m     56\u001b[0m         metrics,\n\u001b[1;32m     57\u001b[0m         over_sampling,\n\u001b[1;32m     58\u001b[0m         pipeline,\n\u001b[1;32m     59\u001b[0m         tensorflow,\n\u001b[1;32m     60\u001b[0m         under_sampling,\n\u001b[1;32m     61\u001b[0m         utils,\n\u001b[1;32m     62\u001b[0m     )\n\u001b[1;32m     63\u001b[0m     \u001b[38;5;28;01mfrom\u001b[39;00m \u001b[38;5;21;01m.\u001b[39;00m\u001b[38;5;21;01m_version\u001b[39;00m \u001b[38;5;28;01mimport\u001b[39;00m __version__\n\u001b[1;32m     64\u001b[0m     \u001b[38;5;28;01mfrom\u001b[39;00m \u001b[38;5;21;01m.\u001b[39;00m\u001b[38;5;21;01mbase\u001b[39;00m \u001b[38;5;28;01mimport\u001b[39;00m FunctionSampler\n",
      "File \u001b[0;32m~/.pyenv/versions/3.10.6/envs/final_pfds/lib/python3.10/site-packages/imblearn/combine/__init__.py:5\u001b[0m\n\u001b[1;32m      1\u001b[0m \u001b[38;5;124;03m\"\"\"The :mod:`imblearn.combine` provides methods which combine\u001b[39;00m\n\u001b[1;32m      2\u001b[0m \u001b[38;5;124;03mover-sampling and under-sampling.\u001b[39;00m\n\u001b[1;32m      3\u001b[0m \u001b[38;5;124;03m\"\"\"\u001b[39;00m\n\u001b[0;32m----> 5\u001b[0m \u001b[38;5;28;01mfrom\u001b[39;00m \u001b[38;5;21;01m.\u001b[39;00m\u001b[38;5;21;01m_smote_enn\u001b[39;00m \u001b[38;5;28;01mimport\u001b[39;00m SMOTEENN\n\u001b[1;32m      6\u001b[0m \u001b[38;5;28;01mfrom\u001b[39;00m \u001b[38;5;21;01m.\u001b[39;00m\u001b[38;5;21;01m_smote_tomek\u001b[39;00m \u001b[38;5;28;01mimport\u001b[39;00m SMOTETomek\n\u001b[1;32m      8\u001b[0m __all__ \u001b[38;5;241m=\u001b[39m [\u001b[38;5;124m\"\u001b[39m\u001b[38;5;124mSMOTEENN\u001b[39m\u001b[38;5;124m\"\u001b[39m, \u001b[38;5;124m\"\u001b[39m\u001b[38;5;124mSMOTETomek\u001b[39m\u001b[38;5;124m\"\u001b[39m]\n",
      "File \u001b[0;32m~/.pyenv/versions/3.10.6/envs/final_pfds/lib/python3.10/site-packages/imblearn/combine/_smote_enn.py:12\u001b[0m\n\u001b[1;32m      9\u001b[0m \u001b[38;5;28;01mfrom\u001b[39;00m \u001b[38;5;21;01msklearn\u001b[39;00m\u001b[38;5;21;01m.\u001b[39;00m\u001b[38;5;21;01mbase\u001b[39;00m \u001b[38;5;28;01mimport\u001b[39;00m clone\n\u001b[1;32m     10\u001b[0m \u001b[38;5;28;01mfrom\u001b[39;00m \u001b[38;5;21;01msklearn\u001b[39;00m\u001b[38;5;21;01m.\u001b[39;00m\u001b[38;5;21;01mutils\u001b[39;00m \u001b[38;5;28;01mimport\u001b[39;00m check_X_y\n\u001b[0;32m---> 12\u001b[0m \u001b[38;5;28;01mfrom\u001b[39;00m \u001b[38;5;21;01m.\u001b[39;00m\u001b[38;5;21;01m.\u001b[39;00m\u001b[38;5;21;01mbase\u001b[39;00m \u001b[38;5;28;01mimport\u001b[39;00m BaseSampler\n\u001b[1;32m     13\u001b[0m \u001b[38;5;28;01mfrom\u001b[39;00m \u001b[38;5;21;01m.\u001b[39;00m\u001b[38;5;21;01m.\u001b[39;00m\u001b[38;5;21;01mover_sampling\u001b[39;00m \u001b[38;5;28;01mimport\u001b[39;00m SMOTE\n\u001b[1;32m     14\u001b[0m \u001b[38;5;28;01mfrom\u001b[39;00m \u001b[38;5;21;01m.\u001b[39;00m\u001b[38;5;21;01m.\u001b[39;00m\u001b[38;5;21;01mover_sampling\u001b[39;00m\u001b[38;5;21;01m.\u001b[39;00m\u001b[38;5;21;01mbase\u001b[39;00m \u001b[38;5;28;01mimport\u001b[39;00m BaseOverSampler\n",
      "File \u001b[0;32m~/.pyenv/versions/3.10.6/envs/final_pfds/lib/python3.10/site-packages/imblearn/base.py:23\u001b[0m\n\u001b[1;32m     20\u001b[0m \u001b[38;5;28;01mfrom\u001b[39;00m \u001b[38;5;21;01msklearn\u001b[39;00m\u001b[38;5;21;01m.\u001b[39;00m\u001b[38;5;21;01mutils\u001b[39;00m \u001b[38;5;28;01mimport\u001b[39;00m parse_version\n\u001b[1;32m     21\u001b[0m \u001b[38;5;28;01mfrom\u001b[39;00m \u001b[38;5;21;01msklearn\u001b[39;00m\u001b[38;5;21;01m.\u001b[39;00m\u001b[38;5;21;01mutils\u001b[39;00m\u001b[38;5;21;01m.\u001b[39;00m\u001b[38;5;21;01mmulticlass\u001b[39;00m \u001b[38;5;28;01mimport\u001b[39;00m check_classification_targets\n\u001b[0;32m---> 23\u001b[0m \u001b[38;5;28;01mfrom\u001b[39;00m \u001b[38;5;21;01m.\u001b[39;00m\u001b[38;5;21;01mutils\u001b[39;00m \u001b[38;5;28;01mimport\u001b[39;00m check_sampling_strategy, check_target_type\n\u001b[1;32m     24\u001b[0m \u001b[38;5;28;01mfrom\u001b[39;00m \u001b[38;5;21;01m.\u001b[39;00m\u001b[38;5;21;01mutils\u001b[39;00m\u001b[38;5;21;01m.\u001b[39;00m\u001b[38;5;21;01m_param_validation\u001b[39;00m \u001b[38;5;28;01mimport\u001b[39;00m validate_parameter_constraints\n\u001b[1;32m     25\u001b[0m \u001b[38;5;28;01mfrom\u001b[39;00m \u001b[38;5;21;01m.\u001b[39;00m\u001b[38;5;21;01mutils\u001b[39;00m\u001b[38;5;21;01m.\u001b[39;00m\u001b[38;5;21;01m_validation\u001b[39;00m \u001b[38;5;28;01mimport\u001b[39;00m ArraysTransformer\n",
      "File \u001b[0;32m~/.pyenv/versions/3.10.6/envs/final_pfds/lib/python3.10/site-packages/imblearn/utils/__init__.py:6\u001b[0m\n\u001b[1;32m      1\u001b[0m \u001b[38;5;124;03m\"\"\"\u001b[39;00m\n\u001b[1;32m      2\u001b[0m \u001b[38;5;124;03mThe :mod:`imblearn.utils` module includes various utilities.\u001b[39;00m\n\u001b[1;32m      3\u001b[0m \u001b[38;5;124;03m\"\"\"\u001b[39;00m\n\u001b[1;32m      5\u001b[0m \u001b[38;5;28;01mfrom\u001b[39;00m \u001b[38;5;21;01m.\u001b[39;00m\u001b[38;5;21;01m_docstring\u001b[39;00m \u001b[38;5;28;01mimport\u001b[39;00m Substitution\n\u001b[0;32m----> 6\u001b[0m \u001b[38;5;28;01mfrom\u001b[39;00m \u001b[38;5;21;01m.\u001b[39;00m\u001b[38;5;21;01m_validation\u001b[39;00m \u001b[38;5;28;01mimport\u001b[39;00m (\n\u001b[1;32m      7\u001b[0m     check_neighbors_object,\n\u001b[1;32m      8\u001b[0m     check_sampling_strategy,\n\u001b[1;32m      9\u001b[0m     check_target_type,\n\u001b[1;32m     10\u001b[0m )\n\u001b[1;32m     12\u001b[0m __all__ \u001b[38;5;241m=\u001b[39m [\n\u001b[1;32m     13\u001b[0m     \u001b[38;5;124m\"\u001b[39m\u001b[38;5;124mcheck_neighbors_object\u001b[39m\u001b[38;5;124m\"\u001b[39m,\n\u001b[1;32m     14\u001b[0m     \u001b[38;5;124m\"\u001b[39m\u001b[38;5;124mcheck_sampling_strategy\u001b[39m\u001b[38;5;124m\"\u001b[39m,\n\u001b[1;32m     15\u001b[0m     \u001b[38;5;124m\"\u001b[39m\u001b[38;5;124mcheck_target_type\u001b[39m\u001b[38;5;124m\"\u001b[39m,\n\u001b[1;32m     16\u001b[0m     \u001b[38;5;124m\"\u001b[39m\u001b[38;5;124mSubstitution\u001b[39m\u001b[38;5;124m\"\u001b[39m,\n\u001b[1;32m     17\u001b[0m ]\n",
      "File \u001b[0;32m~/.pyenv/versions/3.10.6/envs/final_pfds/lib/python3.10/site-packages/imblearn/utils/_validation.py:14\u001b[0m\n\u001b[1;32m     12\u001b[0m \u001b[38;5;28;01mimport\u001b[39;00m \u001b[38;5;21;01mnumpy\u001b[39;00m \u001b[38;5;28;01mas\u001b[39;00m \u001b[38;5;21;01mnp\u001b[39;00m\n\u001b[1;32m     13\u001b[0m \u001b[38;5;28;01mfrom\u001b[39;00m \u001b[38;5;21;01msklearn\u001b[39;00m\u001b[38;5;21;01m.\u001b[39;00m\u001b[38;5;21;01mbase\u001b[39;00m \u001b[38;5;28;01mimport\u001b[39;00m clone\n\u001b[0;32m---> 14\u001b[0m \u001b[38;5;28;01mfrom\u001b[39;00m \u001b[38;5;21;01msklearn\u001b[39;00m\u001b[38;5;21;01m.\u001b[39;00m\u001b[38;5;21;01mneighbors\u001b[39;00m \u001b[38;5;28;01mimport\u001b[39;00m NearestNeighbors\n\u001b[1;32m     15\u001b[0m \u001b[38;5;28;01mfrom\u001b[39;00m \u001b[38;5;21;01msklearn\u001b[39;00m\u001b[38;5;21;01m.\u001b[39;00m\u001b[38;5;21;01mutils\u001b[39;00m \u001b[38;5;28;01mimport\u001b[39;00m check_array, column_or_1d\n\u001b[1;32m     16\u001b[0m \u001b[38;5;28;01mfrom\u001b[39;00m \u001b[38;5;21;01msklearn\u001b[39;00m\u001b[38;5;21;01m.\u001b[39;00m\u001b[38;5;21;01mutils\u001b[39;00m\u001b[38;5;21;01m.\u001b[39;00m\u001b[38;5;21;01mmulticlass\u001b[39;00m \u001b[38;5;28;01mimport\u001b[39;00m type_of_target\n",
      "File \u001b[0;32m~/.pyenv/versions/3.10.6/envs/final_pfds/lib/python3.10/site-packages/sklearn/neighbors/__init__.py:6\u001b[0m\n\u001b[1;32m      1\u001b[0m \u001b[38;5;124;03m\"\"\"\u001b[39;00m\n\u001b[1;32m      2\u001b[0m \u001b[38;5;124;03mThe :mod:`sklearn.neighbors` module implements the k-nearest neighbors\u001b[39;00m\n\u001b[1;32m      3\u001b[0m \u001b[38;5;124;03malgorithm.\u001b[39;00m\n\u001b[1;32m      4\u001b[0m \u001b[38;5;124;03m\"\"\"\u001b[39;00m\n\u001b[0;32m----> 6\u001b[0m \u001b[38;5;28;01mfrom\u001b[39;00m \u001b[38;5;21;01m.\u001b[39;00m\u001b[38;5;21;01m_ball_tree\u001b[39;00m \u001b[38;5;28;01mimport\u001b[39;00m BallTree\n\u001b[1;32m      7\u001b[0m \u001b[38;5;28;01mfrom\u001b[39;00m \u001b[38;5;21;01m.\u001b[39;00m\u001b[38;5;21;01m_kd_tree\u001b[39;00m \u001b[38;5;28;01mimport\u001b[39;00m KDTree\n\u001b[1;32m      8\u001b[0m \u001b[38;5;28;01mfrom\u001b[39;00m \u001b[38;5;21;01m.\u001b[39;00m\u001b[38;5;21;01m_distance_metric\u001b[39;00m \u001b[38;5;28;01mimport\u001b[39;00m DistanceMetric\n",
      "File \u001b[0;32msklearn/neighbors/_ball_tree.pyx:1\u001b[0m, in \u001b[0;36minit sklearn.neighbors._ball_tree\u001b[0;34m()\u001b[0m\n",
      "\u001b[0;31mValueError\u001b[0m: sklearn.metrics._dist_metrics.DistanceMetric size changed, may indicate binary incompatibility. Expected 472 from C header, got 16 from PyObject"
     ]
    }
   ],
   "source": [
    "from pycaret.regression import *\n",
    "\n",
    "\n",
    "df = X.copy()\n",
    "df['target'] = y\n",
    "\n",
    "# Setup the PyCaret environment\n",
    "reg_experiment = setup(df, target='target', session_id=123, silent=True, verbose=False)\n",
    "\n",
    "# Compare models to find the best one\n",
    "best_model = compare_models()\n",
    "\n",
    "# Print the best model\n",
    "print(best_model)\n",
    "\n",
    "# You can also create a model directly, for example:\n",
    "# created_model = create_model('rf')  # For a Random Forest\n",
    "\n",
    "# Tune the best model for better performance\n",
    "tuned_best_model = tune_model(best_model)\n",
    "\n",
    "# Finalize the model (trains on the entire dataset including the holdout set)\n",
    "final_model = finalize_model(tuned_best_model)\n"
   ]
  },
  {
   "cell_type": "code",
   "execution_count": null,
   "id": "1bc08030-ea02-491c-9e50-f38e3cfb436d",
   "metadata": {},
   "outputs": [],
   "source": []
  },
  {
   "cell_type": "code",
   "execution_count": null,
   "id": "4bfa4aaa-9d1a-4c7d-b904-35501a41ae3c",
   "metadata": {},
   "outputs": [],
   "source": []
  },
  {
   "cell_type": "code",
   "execution_count": null,
   "id": "6339260b-efcb-4e9a-8b2a-ed56cb142fd7",
   "metadata": {},
   "outputs": [],
   "source": []
  }
 ],
 "metadata": {
  "kernelspec": {
   "display_name": "Python 3 (ipykernel)",
   "language": "python",
   "name": "python3"
  },
  "language_info": {
   "codemirror_mode": {
    "name": "ipython",
    "version": 3
   },
   "file_extension": ".py",
   "mimetype": "text/x-python",
   "name": "python",
   "nbconvert_exporter": "python",
   "pygments_lexer": "ipython3",
   "version": "3.10.6"
  }
 },
 "nbformat": 4,
 "nbformat_minor": 5
}
