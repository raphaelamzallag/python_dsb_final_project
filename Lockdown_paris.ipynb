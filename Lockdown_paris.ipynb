{
 "cells": [
  {
   "cell_type": "code",
   "execution_count": 71,
   "id": "b958b1ae",
   "metadata": {
    "scrolled": true
   },
   "outputs": [
    {
     "name": "stdout",
     "output_type": "stream",
     "text": [
      "Fetching lockdown dates...\n",
      "Fetched lockdown dates for: France\n"
     ]
    },
    {
     "data": {
      "text/plain": [
       "2.0    246\n",
       "0.0    120\n",
       "1.0      0\n",
       "Name: france_stay_at_home, dtype: int64"
      ]
     },
     "execution_count": 71,
     "metadata": {},
     "output_type": "execute_result"
    }
   ],
   "source": [
    "import pandas as pd\n",
    "import numpy as np\n",
    "from lockdowndates.core import LockdownDates\n",
    "import utils\n",
    "\n",
    "X, y = utils.get_train_data()\n",
    "\n",
    "ld = LockdownDates(\"France\", \"2020-09-01\", \"2021-09-01\", (\"stay_at_home\", \"masks\"))\n",
    "lockdown_dates = ld.dates()\n",
    "\n",
    "lockdown_dates['france_stay_at_home'].value_counts()"
   ]
  },
  {
   "cell_type": "code",
   "execution_count": 69,
   "id": "551ba1a0",
   "metadata": {},
   "outputs": [],
   "source": [
    "def isLockdown (X):\n",
    "    ld = LockdownDates(\"France\", \"2020-09-01\", \"2021-09-09\", (\"stay_at_home\", \"masks\"))\n",
    "    lockdown_dates = ld.dates()\n",
    "    ld = lockdown_dates.reset_index().rename(columns={'timestamp': 'date_merge'})\n",
    "    X['date_merge'] = pd.to_datetime(X['date'].dt.strftime('%Y-%m-%d'), format='%Y-%m-%d')\n",
    "    X_ld = X.merge(ld, how = 'left', on = 'date_merge')\n",
    "    X_ld = X_ld.drop(['france_masks', 'france_country_code', 'date_merge'], axis=1)\n",
    "    #X_ld['france_stay_at_home'] = X_ld['france_stay_at_home'].map(lambda x: 1 if x == 2 else 0)\n",
    "    return X_ld"
   ]
  },
  {
   "cell_type": "code",
   "execution_count": 70,
   "id": "4cda58ac",
   "metadata": {
    "scrolled": true
   },
   "outputs": [
    {
     "name": "stdout",
     "output_type": "stream",
     "text": [
      "Fetching lockdown dates...\n",
      "Fetched lockdown dates for: France\n"
     ]
    },
    {
     "data": {
      "text/plain": [
       "2.0    327058\n",
       "0.0    169769\n",
       "1.0         0\n",
       "Name: france_stay_at_home, dtype: int64"
      ]
     },
     "execution_count": 70,
     "metadata": {},
     "output_type": "execute_result"
    }
   ],
   "source": [
    "isLockdown(X)['france_stay_at_home'].value_counts()#.describe()"
   ]
  },
  {
   "cell_type": "code",
   "execution_count": null,
   "id": "748ca8da",
   "metadata": {},
   "outputs": [],
   "source": []
  }
 ],
 "metadata": {
  "kernelspec": {
   "display_name": "Python 3 (ipykernel)",
   "language": "python",
   "name": "python3"
  },
  "language_info": {
   "codemirror_mode": {
    "name": "ipython",
    "version": 3
   },
   "file_extension": ".py",
   "mimetype": "text/x-python",
   "name": "python",
   "nbconvert_exporter": "python",
   "pygments_lexer": "ipython3",
   "version": "3.11.5"
  }
 },
 "nbformat": 4,
 "nbformat_minor": 5
}
