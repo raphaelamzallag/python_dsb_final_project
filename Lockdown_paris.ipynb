{
 "cells": [
  {
   "cell_type": "code",
   "execution_count": 11,
   "id": "b958b1ae",
   "metadata": {},
   "outputs": [
    {
     "name": "stdout",
     "output_type": "stream",
     "text": [
      "Fetching lockdown dates...\n",
      "Fetched lockdown dates for: France\n"
     ]
    },
    {
     "data": {
      "text/html": [
       "<div>\n",
       "<style scoped>\n",
       "    .dataframe tbody tr th:only-of-type {\n",
       "        vertical-align: middle;\n",
       "    }\n",
       "\n",
       "    .dataframe tbody tr th {\n",
       "        vertical-align: top;\n",
       "    }\n",
       "\n",
       "    .dataframe thead th {\n",
       "        text-align: right;\n",
       "    }\n",
       "</style>\n",
       "<table border=\"1\" class=\"dataframe\">\n",
       "  <thead>\n",
       "    <tr style=\"text-align: right;\">\n",
       "      <th></th>\n",
       "      <th>france_country_code</th>\n",
       "      <th>france_masks</th>\n",
       "      <th>france_stay_at_home</th>\n",
       "    </tr>\n",
       "    <tr>\n",
       "      <th>timestamp</th>\n",
       "      <th></th>\n",
       "      <th></th>\n",
       "      <th></th>\n",
       "    </tr>\n",
       "  </thead>\n",
       "  <tbody>\n",
       "    <tr>\n",
       "      <th>2020-09-01</th>\n",
       "      <td>FRA</td>\n",
       "      <td>4.0</td>\n",
       "      <td>0.0</td>\n",
       "    </tr>\n",
       "    <tr>\n",
       "      <th>2020-09-02</th>\n",
       "      <td>FRA</td>\n",
       "      <td>4.0</td>\n",
       "      <td>0.0</td>\n",
       "    </tr>\n",
       "    <tr>\n",
       "      <th>2020-09-03</th>\n",
       "      <td>FRA</td>\n",
       "      <td>4.0</td>\n",
       "      <td>0.0</td>\n",
       "    </tr>\n",
       "    <tr>\n",
       "      <th>2020-09-04</th>\n",
       "      <td>FRA</td>\n",
       "      <td>4.0</td>\n",
       "      <td>0.0</td>\n",
       "    </tr>\n",
       "    <tr>\n",
       "      <th>2020-09-05</th>\n",
       "      <td>FRA</td>\n",
       "      <td>4.0</td>\n",
       "      <td>0.0</td>\n",
       "    </tr>\n",
       "    <tr>\n",
       "      <th>...</th>\n",
       "      <td>...</td>\n",
       "      <td>...</td>\n",
       "      <td>...</td>\n",
       "    </tr>\n",
       "    <tr>\n",
       "      <th>2021-08-28</th>\n",
       "      <td>FRA</td>\n",
       "      <td>3.0</td>\n",
       "      <td>0.0</td>\n",
       "    </tr>\n",
       "    <tr>\n",
       "      <th>2021-08-29</th>\n",
       "      <td>FRA</td>\n",
       "      <td>3.0</td>\n",
       "      <td>0.0</td>\n",
       "    </tr>\n",
       "    <tr>\n",
       "      <th>2021-08-30</th>\n",
       "      <td>FRA</td>\n",
       "      <td>3.0</td>\n",
       "      <td>0.0</td>\n",
       "    </tr>\n",
       "    <tr>\n",
       "      <th>2021-08-31</th>\n",
       "      <td>FRA</td>\n",
       "      <td>3.0</td>\n",
       "      <td>0.0</td>\n",
       "    </tr>\n",
       "    <tr>\n",
       "      <th>2021-09-01</th>\n",
       "      <td>FRA</td>\n",
       "      <td>3.0</td>\n",
       "      <td>0.0</td>\n",
       "    </tr>\n",
       "  </tbody>\n",
       "</table>\n",
       "<p>366 rows × 3 columns</p>\n",
       "</div>"
      ],
      "text/plain": [
       "           france_country_code france_masks france_stay_at_home\n",
       "timestamp                                                      \n",
       "2020-09-01                 FRA          4.0                 0.0\n",
       "2020-09-02                 FRA          4.0                 0.0\n",
       "2020-09-03                 FRA          4.0                 0.0\n",
       "2020-09-04                 FRA          4.0                 0.0\n",
       "2020-09-05                 FRA          4.0                 0.0\n",
       "...                        ...          ...                 ...\n",
       "2021-08-28                 FRA          3.0                 0.0\n",
       "2021-08-29                 FRA          3.0                 0.0\n",
       "2021-08-30                 FRA          3.0                 0.0\n",
       "2021-08-31                 FRA          3.0                 0.0\n",
       "2021-09-01                 FRA          3.0                 0.0\n",
       "\n",
       "[366 rows x 3 columns]"
      ]
     },
     "execution_count": 11,
     "metadata": {},
     "output_type": "execute_result"
    }
   ],
   "source": [
    "import pandas as pd\n",
    "import numpy as np\n",
    "from lockdowndates.core import LockdownDates\n",
    "\n",
    "\n",
    "ld = LockdownDates(\"France\", \"2020-09-01\", \"2021-09-01\", (\"stay_at_home\", \"masks\"))\n",
    "lockdown_dates = ld.dates()\n",
    "lockdown_dates"
   ]
  },
  {
   "cell_type": "code",
   "execution_count": 14,
   "id": "b8d39119",
   "metadata": {},
   "outputs": [
    {
     "name": "stderr",
     "output_type": "stream",
     "text": [
      "/Applications/anaconda3/lib/python3.11/site-packages/IPython/lib/pretty.py:778: FutureWarning: Index.ravel returning ndarray is deprecated; in a future version this will return a view on self.\n",
      "  output = repr(obj)\n"
     ]
    },
    {
     "data": {
      "text/plain": [
       "[0.0, 2.0]\n",
       "Categories (3, float64): [0.0, 1.0, 2.0]"
      ]
     },
     "execution_count": 14,
     "metadata": {},
     "output_type": "execute_result"
    }
   ],
   "source": [
    "lockdown_dates['france_stay_at_home'].unique()"
   ]
  },
  {
   "cell_type": "code",
   "execution_count": 13,
   "id": "4be1d409",
   "metadata": {},
   "outputs": [
    {
     "name": "stdout",
     "output_type": "stream",
     "text": [
      "246\n"
     ]
    }
   ],
   "source": [
    "non_zero_count = lockdown_dates['france_stay_at_home'].ne(0.0).sum()\n",
    "print(non_zero_count)"
   ]
  },
  {
   "cell_type": "code",
   "execution_count": 22,
   "id": "13a3ab11",
   "metadata": {},
   "outputs": [],
   "source": [
    "lockdown_paris = lockdown_dates['france_stay_at_home']\n",
    "csv_path = '/Users/henrivignial/Desktop/python_dsb_final_project/lockdown_dates.csv'\n",
    "lockdown_paris.to_csv(csv_path, index = False)"
   ]
  }
 ],
 "metadata": {
  "kernelspec": {
   "display_name": "Python 3 (ipykernel)",
   "language": "python",
   "name": "python3"
  },
  "language_info": {
   "codemirror_mode": {
    "name": "ipython",
    "version": 3
   },
   "file_extension": ".py",
   "mimetype": "text/x-python",
   "name": "python",
   "nbconvert_exporter": "python",
   "pygments_lexer": "ipython3",
   "version": "3.11.5"
  }
 },
 "nbformat": 4,
 "nbformat_minor": 5
}
